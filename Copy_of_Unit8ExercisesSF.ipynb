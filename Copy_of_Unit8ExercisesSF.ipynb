{
  "nbformat": 4,
  "nbformat_minor": 0,
  "metadata": {
    "colab": {
      "provenance": [],
      "include_colab_link": true
    },
    "kernelspec": {
      "name": "python3",
      "display_name": "Python 3"
    },
    "language_info": {
      "name": "python"
    }
  },
  "cells": [
    {
      "cell_type": "markdown",
      "metadata": {
        "id": "view-in-github",
        "colab_type": "text"
      },
      "source": [
        "<a href=\"https://colab.research.google.com/github/jettecampbell/data-science/blob/main/Copy_of_Unit8ExercisesSF.ipynb\" target=\"_parent\"><img src=\"https://colab.research.google.com/assets/colab-badge.svg\" alt=\"Open In Colab\"/></a>"
      ]
    },
    {
      "cell_type": "markdown",
      "source": [
        "# Unit 8 Exercises: The Art of BART\n",
        "\n",
        "These exercises are grouped into two parts:\n",
        "\n",
        "- Questions on the nature of decision trees, random forests, and BART models\n",
        "- An oppurtunity to practice implementing and analyzing a BART model.\n",
        "\n",
        "Enjoy!"
      ],
      "metadata": {
        "id": "NwsvoL28fIVf"
      }
    },
    {
      "cell_type": "markdown",
      "source": [
        "## Bartian Theory"
      ],
      "metadata": {
        "id": "3O91lqIHh2jR"
      }
    },
    {
      "cell_type": "markdown",
      "source": [
        "**Task1**:\n",
        "\n",
        "Draw a decision tree--on a physical piece of paper--that predicts how many calories you burn in a day, using time you spent exercising that day (in minutes) as a predictor.\n",
        "\n",
        "To help you understand what you're doing with this tree, seperately create an x/y plot with time exercising as x, and calories burned as y.\n",
        "\n",
        "If this seems to easy, then add another variable or two (type of exercise?), and/or increase the depth of your tree.\n",
        "\n",
        "You do not have to show me or turn in your tree to earn credit for this question, although I would like to see your drawing."
      ],
      "metadata": {
        "id": "IEvYMB3tiAik"
      }
    },
    {
      "cell_type": "markdown",
      "source": [
        "**Task2**:\n",
        "\n",
        "What is a decision tree? How do they work?"
      ],
      "metadata": {
        "id": "qAL92TusjVne"
      }
    },
    {
      "cell_type": "markdown",
      "source": [
        "A decision tree is a type of flowchart that makes predictions by splitting data into smaller groups based on feature values. It starts with a root node, selects the best feature to split on, and continues branching until reaching leaf nodes, which contain final predictions."
      ],
      "metadata": {
        "id": "vMKuP4DQo4JU"
      }
    },
    {
      "cell_type": "markdown",
      "source": [
        "**Task3**:\n",
        "\n",
        "What does the \"depth\" of a decision tree mean?\n",
        "\n",
        "How do I know if a tree is too deep, or not deep enough?"
      ],
      "metadata": {
        "id": "qnEa-WIYlH14"
      }
    },
    {
      "cell_type": "markdown",
      "source": [
        "The \"depth\" of a decision tree is how many levels are between the root node and the the deepest leaf node. A tree is too deep is it overfits the data and follows the data rather than patterns, and the tree is no deep enough if it fails to capture in relationship present in the data."
      ],
      "metadata": {
        "id": "-IeHUuKvtV6O"
      }
    },
    {
      "cell_type": "markdown",
      "source": [
        "**Task4:**\n",
        "\n",
        "How are BART models similar and different from a decision tree?"
      ],
      "metadata": {
        "id": "HDR22vp3uXgc"
      }
    },
    {
      "cell_type": "markdown",
      "source": [
        "BART models are similar to decision trees because they use tree-based structures to make predictions. However, BART combines many small decision trees and uses Bayesian techniques to improve accuracy and uncertainty estimation. BART produces smoother predictions and avoids overfitting by averaging multiple tree-based models."
      ],
      "metadata": {
        "id": "WjRSWgO7v8vw"
      }
    },
    {
      "cell_type": "markdown",
      "source": [
        "**Task5**:\n",
        "\n",
        "Why would we use a BART model instead of a decision tree?"
      ],
      "metadata": {
        "id": "8lxcoCI0vkIu"
      }
    },
    {
      "cell_type": "markdown",
      "source": [
        "We use BART instead of a decision tree because BART provides better predictive performance and uncertainty quantification"
      ],
      "metadata": {
        "id": "_oMYTKalwi5_"
      }
    },
    {
      "cell_type": "markdown",
      "source": [
        "## Bartian Penguins"
      ],
      "metadata": {
        "id": "GBihX_8tAvgS"
      }
    },
    {
      "cell_type": "markdown",
      "source": [
        "**Task6**:\n",
        "\n",
        "Create a BART model that uses flipper length, bill depth, and bill length to predict body mass in penguins, and make a ppc to check its fit\n",
        "\n",
        "Code for loading the data is below. You'll need to do everything else yourself.\n",
        "\n",
        "Remember to use my notes as a reference, and to copy and paste from them when it makes sense to.\n",
        "\n",
        "Oh, and try a normal likelihood."
      ],
      "metadata": {
        "id": "DixKVSL1w9FJ"
      }
    },
    {
      "cell_type": "code",
      "source": [
        "#drop the incomplete rows from the dat\n",
        "import arviz as az\n",
        "import matplotlib.pyplot as plt\n",
        "import numpy as np\n",
        "import pandas as pd\n",
        "import pymc as pm\n",
        "import seaborn as sns\n",
        "from sklearn import tree\n",
        "!pip install pymc-bart\n",
        "!pip install preliz\n",
        "import pymc_bart as pmb\n",
        "import preliz as pz\n",
        "url=\"https://raw.githubusercontent.com/thedarredondo/data-science-fundamentals/main/Data/penguins.csv\"\n",
        "penguins = pd.read_csv(url).dropna()"
      ],
      "metadata": {
        "id": "WHwxrrVlyKgz",
        "colab": {
          "base_uri": "https://localhost:8080/"
        },
        "outputId": "9b129d4d-6ae2-49bf-bc14-75a09659e311"
      },
      "execution_count": 9,
      "outputs": [
        {
          "output_type": "stream",
          "name": "stdout",
          "text": [
            "Requirement already satisfied: pymc-bart in /usr/local/lib/python3.11/dist-packages (0.9.0)\n",
            "Requirement already satisfied: pymc<=5.20.1,>=5.16.2 in /usr/local/lib/python3.11/dist-packages (from pymc-bart) (5.20.1)\n",
            "Requirement already satisfied: arviz>=0.18.0 in /usr/local/lib/python3.11/dist-packages (from pymc-bart) (0.21.0)\n",
            "Requirement already satisfied: numba in /usr/local/lib/python3.11/dist-packages (from pymc-bart) (0.60.0)\n",
            "Requirement already satisfied: matplotlib in /usr/local/lib/python3.11/dist-packages (from pymc-bart) (3.10.0)\n",
            "Requirement already satisfied: numpy in /usr/local/lib/python3.11/dist-packages (from pymc-bart) (1.26.4)\n",
            "Requirement already satisfied: setuptools>=60.0.0 in /usr/local/lib/python3.11/dist-packages (from arviz>=0.18.0->pymc-bart) (75.1.0)\n",
            "Requirement already satisfied: scipy>=1.9.0 in /usr/local/lib/python3.11/dist-packages (from arviz>=0.18.0->pymc-bart) (1.14.1)\n",
            "Requirement already satisfied: packaging in /usr/local/lib/python3.11/dist-packages (from arviz>=0.18.0->pymc-bart) (24.2)\n",
            "Requirement already satisfied: pandas>=1.5.0 in /usr/local/lib/python3.11/dist-packages (from arviz>=0.18.0->pymc-bart) (2.2.2)\n",
            "Requirement already satisfied: xarray>=2022.6.0 in /usr/local/lib/python3.11/dist-packages (from arviz>=0.18.0->pymc-bart) (2025.1.2)\n",
            "Requirement already satisfied: h5netcdf>=1.0.2 in /usr/local/lib/python3.11/dist-packages (from arviz>=0.18.0->pymc-bart) (1.6.1)\n",
            "Requirement already satisfied: typing-extensions>=4.1.0 in /usr/local/lib/python3.11/dist-packages (from arviz>=0.18.0->pymc-bart) (4.12.2)\n",
            "Requirement already satisfied: xarray-einstats>=0.3 in /usr/local/lib/python3.11/dist-packages (from arviz>=0.18.0->pymc-bart) (0.8.0)\n",
            "Requirement already satisfied: contourpy>=1.0.1 in /usr/local/lib/python3.11/dist-packages (from matplotlib->pymc-bart) (1.3.1)\n",
            "Requirement already satisfied: cycler>=0.10 in /usr/local/lib/python3.11/dist-packages (from matplotlib->pymc-bart) (0.12.1)\n",
            "Requirement already satisfied: fonttools>=4.22.0 in /usr/local/lib/python3.11/dist-packages (from matplotlib->pymc-bart) (4.56.0)\n",
            "Requirement already satisfied: kiwisolver>=1.3.1 in /usr/local/lib/python3.11/dist-packages (from matplotlib->pymc-bart) (1.4.8)\n",
            "Requirement already satisfied: pillow>=8 in /usr/local/lib/python3.11/dist-packages (from matplotlib->pymc-bart) (11.1.0)\n",
            "Requirement already satisfied: pyparsing>=2.3.1 in /usr/local/lib/python3.11/dist-packages (from matplotlib->pymc-bart) (3.2.1)\n",
            "Requirement already satisfied: python-dateutil>=2.7 in /usr/local/lib/python3.11/dist-packages (from matplotlib->pymc-bart) (2.8.2)\n",
            "Requirement already satisfied: cachetools>=4.2.1 in /usr/local/lib/python3.11/dist-packages (from pymc<=5.20.1,>=5.16.2->pymc-bart) (5.5.2)\n",
            "Requirement already satisfied: cloudpickle in /usr/local/lib/python3.11/dist-packages (from pymc<=5.20.1,>=5.16.2->pymc-bart) (3.1.1)\n",
            "Requirement already satisfied: pytensor<2.28,>=2.26.1 in /usr/local/lib/python3.11/dist-packages (from pymc<=5.20.1,>=5.16.2->pymc-bart) (2.27.1)\n",
            "Requirement already satisfied: rich>=13.7.1 in /usr/local/lib/python3.11/dist-packages (from pymc<=5.20.1,>=5.16.2->pymc-bart) (13.9.4)\n",
            "Requirement already satisfied: threadpoolctl<4.0.0,>=3.1.0 in /usr/local/lib/python3.11/dist-packages (from pymc<=5.20.1,>=5.16.2->pymc-bart) (3.6.0)\n",
            "Requirement already satisfied: llvmlite<0.44,>=0.43.0dev0 in /usr/local/lib/python3.11/dist-packages (from numba->pymc-bart) (0.43.0)\n",
            "Requirement already satisfied: h5py in /usr/local/lib/python3.11/dist-packages (from h5netcdf>=1.0.2->arviz>=0.18.0->pymc-bart) (3.13.0)\n",
            "Requirement already satisfied: pytz>=2020.1 in /usr/local/lib/python3.11/dist-packages (from pandas>=1.5.0->arviz>=0.18.0->pymc-bart) (2025.1)\n",
            "Requirement already satisfied: tzdata>=2022.7 in /usr/local/lib/python3.11/dist-packages (from pandas>=1.5.0->arviz>=0.18.0->pymc-bart) (2025.1)\n",
            "Requirement already satisfied: filelock>=3.15 in /usr/local/lib/python3.11/dist-packages (from pytensor<2.28,>=2.26.1->pymc<=5.20.1,>=5.16.2->pymc-bart) (3.18.0)\n",
            "Requirement already satisfied: etuples in /usr/local/lib/python3.11/dist-packages (from pytensor<2.28,>=2.26.1->pymc<=5.20.1,>=5.16.2->pymc-bart) (0.3.9)\n",
            "Requirement already satisfied: logical-unification in /usr/local/lib/python3.11/dist-packages (from pytensor<2.28,>=2.26.1->pymc<=5.20.1,>=5.16.2->pymc-bart) (0.4.6)\n",
            "Requirement already satisfied: miniKanren in /usr/local/lib/python3.11/dist-packages (from pytensor<2.28,>=2.26.1->pymc<=5.20.1,>=5.16.2->pymc-bart) (1.0.3)\n",
            "Requirement already satisfied: cons in /usr/local/lib/python3.11/dist-packages (from pytensor<2.28,>=2.26.1->pymc<=5.20.1,>=5.16.2->pymc-bart) (0.4.6)\n",
            "Requirement already satisfied: six>=1.5 in /usr/local/lib/python3.11/dist-packages (from python-dateutil>=2.7->matplotlib->pymc-bart) (1.17.0)\n",
            "Requirement already satisfied: markdown-it-py>=2.2.0 in /usr/local/lib/python3.11/dist-packages (from rich>=13.7.1->pymc<=5.20.1,>=5.16.2->pymc-bart) (3.0.0)\n",
            "Requirement already satisfied: pygments<3.0.0,>=2.13.0 in /usr/local/lib/python3.11/dist-packages (from rich>=13.7.1->pymc<=5.20.1,>=5.16.2->pymc-bart) (2.18.0)\n",
            "Requirement already satisfied: mdurl~=0.1 in /usr/local/lib/python3.11/dist-packages (from markdown-it-py>=2.2.0->rich>=13.7.1->pymc<=5.20.1,>=5.16.2->pymc-bart) (0.1.2)\n",
            "Requirement already satisfied: toolz in /usr/local/lib/python3.11/dist-packages (from logical-unification->pytensor<2.28,>=2.26.1->pymc<=5.20.1,>=5.16.2->pymc-bart) (0.12.1)\n",
            "Requirement already satisfied: multipledispatch in /usr/local/lib/python3.11/dist-packages (from logical-unification->pytensor<2.28,>=2.26.1->pymc<=5.20.1,>=5.16.2->pymc-bart) (1.0.0)\n",
            "Requirement already satisfied: preliz in /usr/local/lib/python3.11/dist-packages (0.16.0)\n",
            "Requirement already satisfied: matplotlib>=3.7 in /usr/local/lib/python3.11/dist-packages (from preliz) (3.10.0)\n",
            "Requirement already satisfied: numba>=0.59 in /usr/local/lib/python3.11/dist-packages (from preliz) (0.60.0)\n",
            "Requirement already satisfied: numpy>=1.24 in /usr/local/lib/python3.11/dist-packages (from preliz) (1.26.4)\n",
            "Requirement already satisfied: scipy<1.15,>=1.10 in /usr/local/lib/python3.11/dist-packages (from preliz) (1.14.1)\n",
            "Requirement already satisfied: contourpy>=1.0.1 in /usr/local/lib/python3.11/dist-packages (from matplotlib>=3.7->preliz) (1.3.1)\n",
            "Requirement already satisfied: cycler>=0.10 in /usr/local/lib/python3.11/dist-packages (from matplotlib>=3.7->preliz) (0.12.1)\n",
            "Requirement already satisfied: fonttools>=4.22.0 in /usr/local/lib/python3.11/dist-packages (from matplotlib>=3.7->preliz) (4.56.0)\n",
            "Requirement already satisfied: kiwisolver>=1.3.1 in /usr/local/lib/python3.11/dist-packages (from matplotlib>=3.7->preliz) (1.4.8)\n",
            "Requirement already satisfied: packaging>=20.0 in /usr/local/lib/python3.11/dist-packages (from matplotlib>=3.7->preliz) (24.2)\n",
            "Requirement already satisfied: pillow>=8 in /usr/local/lib/python3.11/dist-packages (from matplotlib>=3.7->preliz) (11.1.0)\n",
            "Requirement already satisfied: pyparsing>=2.3.1 in /usr/local/lib/python3.11/dist-packages (from matplotlib>=3.7->preliz) (3.2.1)\n",
            "Requirement already satisfied: python-dateutil>=2.7 in /usr/local/lib/python3.11/dist-packages (from matplotlib>=3.7->preliz) (2.8.2)\n",
            "Requirement already satisfied: llvmlite<0.44,>=0.43.0dev0 in /usr/local/lib/python3.11/dist-packages (from numba>=0.59->preliz) (0.43.0)\n",
            "Requirement already satisfied: six>=1.5 in /usr/local/lib/python3.11/dist-packages (from python-dateutil>=2.7->matplotlib>=3.7->preliz) (1.17.0)\n"
          ]
        }
      ]
    },
    {
      "cell_type": "code",
      "source": [
        "features = [\"flipper_length\", \"bill_length\",\"bill_depth\"]\n",
        "\n",
        "X = penguins[features]\n",
        "Y = penguins[\"body_mass\"].to_numpy()"
      ],
      "metadata": {
        "id": "xHWLzq6Dz5RP"
      },
      "execution_count": 10,
      "outputs": []
    },
    {
      "cell_type": "code",
      "source": [
        "with pm.Model() as model_octps:\n",
        "    s = pm.HalfNormal('s',1000)\n",
        "    μ_ = pmb.BART(\"μ_\", X, np.log(Y), m=50)\n",
        "    μ = pm.Deterministic(\"μ\",pm.math.exp(μ_))\n",
        "    y = pm.Normal(\"y\", mu=μ, sigma=s,  observed=Y)\n",
        "    idata_octps = pm.sample(compute_convergence_checks=False)"
      ],
      "metadata": {
        "colab": {
          "base_uri": "https://localhost:8080/"
        },
        "id": "FO2btQ-b0CPt",
        "outputId": "de9b25c1-f5f4-4303-d706-35466953392b"
      },
      "execution_count": 11,
      "outputs": [
        {
          "output_type": "stream",
          "name": "stderr",
          "text": [
            "ERROR:pytensor.graph.rewriting.basic:Rewrite failure due to: constant_folding\n",
            "ERROR:pytensor.graph.rewriting.basic:node: Cast{float32}(1000)\n",
            "ERROR:pytensor.graph.rewriting.basic:TRACEBACK:\n",
            "ERROR:pytensor.graph.rewriting.basic:Traceback (most recent call last):\n",
            "  File \"/usr/local/lib/python3.11/dist-packages/pytensor/graph/rewriting/basic.py\", line 1922, in process_node\n",
            "    return False\n",
            "               ^^\n",
            "  File \"/usr/local/lib/python3.11/dist-packages/pytensor/graph/rewriting/basic.py\", line 1086, in transform\n",
            "    return self.fn(fgraph, node)\n",
            "           ^^^^^^^^^^^^^^^^^^^^^\n",
            "  File \"/usr/local/lib/python3.11/dist-packages/pytensor/tensor/rewriting/basic.py\", line 1173, in constant_folding\n",
            "    return unconditional_constant_folding.transform(fgraph, node)\n",
            "           ^^^^^^^^^^^^^^^^^^^^^^^^^^^^^^^^^^^^^^^^^^^^^^^^^^^^^^\n",
            "  File \"/usr/local/lib/python3.11/dist-packages/pytensor/graph/rewriting/basic.py\", line 1086, in transform\n",
            "    return self.fn(fgraph, node)\n",
            "           ^^^^^^^^^^^^^^^^^^^^^\n",
            "  File \"/usr/local/lib/python3.11/dist-packages/pytensor/tensor/rewriting/basic.py\", line 1122, in unconditional_constant_folding\n",
            "    thunk = node.op.make_thunk(node, storage_map, compute_map, no_recycling=[])\n",
            "            ^^^^^^^^^^^^^^^^^^^^^^^^^^^^^^^^^^^^^^^^^^^^^^^^^^^^^^^^^^^^^^^^^^^\n",
            "  File \"/usr/local/lib/python3.11/dist-packages/pytensor/link/c/op.py\", line 119, in make_thunk\n",
            "    return self.make_c_thunk(node, storage_map, compute_map, no_recycling)\n",
            "           ^^^^^^^^^^^^^^^^^^^^^^^^^^^^^^^^^^^^^^^^^^^^^^^^^^^^^^^^^^^^^^^\n",
            "  File \"/usr/local/lib/python3.11/dist-packages/pytensor/link/c/op.py\", line 84, in make_c_thunk\n",
            "    outputs = cl.make_thunk(\n",
            "              ^^^^^^^^^^^^^^\n",
            "  File \"/usr/local/lib/python3.11/dist-packages/pytensor/link/c/basic.py\", line 1185, in make_thunk\n",
            "    init_tasks, tasks = self.get_init_tasks()\n",
            "                                              \n",
            "  File \"/usr/local/lib/python3.11/dist-packages/pytensor/link/c/basic.py\", line 1102, in __compile__\n",
            "    output_storage = tuple(output_storage)\n",
            "                    ^^^^^^^^^^^^^^^^^^^^^^\n",
            "  File \"/usr/local/lib/python3.11/dist-packages/pytensor/link/c/basic.py\", line 1626, in cthunk_factory\n",
            "    # Set compute_map as None as clinker do not support lazy evaluation\n",
            "             ^^^^^^^^^^^^^^^^^^^^^^^^^^^^^^^^^^^^^^^^\n",
            "  File \"/usr/local/lib/python3.11/dist-packages/pytensor/link/c/cmodule.py\", line 1250, in module_from_key\n",
            "    module = lnk.compile_cmodule(location)\n",
            "             ^^^^^^^^^^^^^^^^^^^^^^^^^^^^^\n",
            "  File \"/usr/local/lib/python3.11/dist-packages/pytensor/link/c/basic.py\", line 1527, in compile_cmodule\n",
            "    # We want to compute the code without the lock\n",
            "                     ^^^^^^^^^^^^^^^^^^^^^^^^^^^^^\n",
            "  File \"/usr/local/lib/python3.11/dist-packages/pytensor/link/c/cmodule.py\", line 2676, in compile_str\n",
            "    raise CompileError(\n",
            "pytensor.link.c.exceptions.CompileError: Compilation failed (return status=1):\n",
            "/usr/bin/g++ -shared -g -O3 -fno-math-errno -Wno-unused-label -Wno-unused-variable -Wno-write-strings -Wno-c++11-narrowing -fno-exceptions -fno-unwind-tables -fno-asynchronous-unwind-tables -march=broadwell -mmmx -mpopcnt -msse -msse2 -msse3 -mssse3 -msse4.1 -msse4.2 -mavx -mavx2 -mno-sse4a -mno-fma4 -mno-xop -mfma -mno-avx512f -mbmi -mbmi2 -maes -mpclmul -mno-avx512vl -mno-avx512bw -mno-avx512dq -mno-avx512cd -mno-avx512er -mno-avx512pf -mno-avx512vbmi -mno-avx512ifma -mno-avx5124vnniw -mno-avx5124fmaps -mno-avx512vpopcntdq -mno-avx512vbmi2 -mno-gfni -mno-vpclmulqdq -mno-avx512vnni -mno-avx512bitalg -mno-avx512bf16 -mno-avx512vp2intersect -mno-3dnow -madx -mabm -mno-cldemote -mno-clflushopt -mno-clwb -mno-clzero -mcx16 -mno-enqcmd -mf16c -mfsgsbase -mfxsr -mhle -msahf -mno-lwp -mlzcnt -mmovbe -mno-movdir64b -mno-movdiri -mno-mwaitx -mno-pconfig -mno-pku -mno-prefetchwt1 -mprfchw -mno-ptwrite -mno-rdpid -mrdrnd -mrdseed -mrtm -mno-serialize -mno-sgx -mno-sha -mno-shstk -mno-tbm -mno-tsxldtrk -mno-vaes -mno-waitpkg -mno-wbnoinvd -mxsave -mno-xsavec -mxsaveopt -mno-xsaves -mno-amx-tile -mno-amx-int8 -mno-amx-bf16 -mno-uintr -mno-hreset -mno-kl -mno-widekl -mno-avxvnni --param l1-cache-size=32 --param l1-cache-line-size=64 --param l2-cache-size=56320 -mtune=broadwell -DNPY_NO_DEPRECATED_API=NPY_1_7_API_VERSION -m64 -fPIC -I/usr/local/lib/python3.11/dist-packages/numpy/_core/include -I/usr/include/python3.11 -I/usr/local/lib/python3.11/dist-packages/pytensor/link/c/c_code -L/usr/lib/x86_64-linux-gnu -L/usr/lib -fvisibility=hidden -o /root/.pytensor/compiledir_Linux-6.1.85+-x86_64-with-glibc2.35-x86_64-3.11.11-64/tmprlotfd77/m3065a1c6e613110a7a17adec6cf9796a0b8318e8223a3d5c6fb6d52a60faaa2b.so /root/.pytensor/compiledir_Linux-6.1.85+-x86_64-with-glibc2.35-x86_64-3.11.11-64/tmprlotfd77/mod.cpp -lpython3.11\n",
            "/root/.pytensor/compiledir_Linux-6.1.85+-x86_64-with-glibc2.35-x86_64-3.11.11-64/tmprlotfd77/mod.cpp:5:10: fatal error: numpy/arrayobject.h: No such file or directory\n",
            "    5 | #include <numpy/arrayobject.h>\n",
            "      |          ^~~~~~~~~~~~~~~~~~~~~\n",
            "compilation terminated.\n",
            "\n",
            "\n",
            "ERROR:pytensor.graph.rewriting.basic:Rewrite failure due to: constant_folding\n",
            "ERROR:pytensor.graph.rewriting.basic:node: ExpandDims{axis=0}(1.4189121719466673)\n",
            "ERROR:pytensor.graph.rewriting.basic:TRACEBACK:\n",
            "ERROR:pytensor.graph.rewriting.basic:Traceback (most recent call last):\n",
            "  File \"/usr/local/lib/python3.11/dist-packages/pytensor/graph/rewriting/basic.py\", line 1922, in process_node\n",
            "    return False\n",
            "               ^^\n",
            "  File \"/usr/local/lib/python3.11/dist-packages/pytensor/graph/rewriting/basic.py\", line 1086, in transform\n",
            "    return self.fn(fgraph, node)\n",
            "           ^^^^^^^^^^^^^^^^^^^^^\n",
            "  File \"/usr/local/lib/python3.11/dist-packages/pytensor/tensor/rewriting/basic.py\", line 1173, in constant_folding\n",
            "    return unconditional_constant_folding.transform(fgraph, node)\n",
            "           ^^^^^^^^^^^^^^^^^^^^^^^^^^^^^^^^^^^^^^^^^^^^^^^^^^^^^^\n",
            "  File \"/usr/local/lib/python3.11/dist-packages/pytensor/graph/rewriting/basic.py\", line 1086, in transform\n",
            "    return self.fn(fgraph, node)\n",
            "           ^^^^^^^^^^^^^^^^^^^^^\n",
            "  File \"/usr/local/lib/python3.11/dist-packages/pytensor/tensor/rewriting/basic.py\", line 1122, in unconditional_constant_folding\n",
            "    thunk = node.op.make_thunk(node, storage_map, compute_map, no_recycling=[])\n",
            "            ^^^^^^^^^^^^^^^^^^^^^^^^^^^^^^^^^^^^^^^^^^^^^^^^^^^^^^^^^^^^^^^^^^^\n",
            "  File \"/usr/local/lib/python3.11/dist-packages/pytensor/link/c/op.py\", line 119, in make_thunk\n",
            "    return self.make_c_thunk(node, storage_map, compute_map, no_recycling)\n",
            "           ^^^^^^^^^^^^^^^^^^^^^^^^^^^^^^^^^^^^^^^^^^^^^^^^^^^^^^^^^^^^^^^\n",
            "  File \"/usr/local/lib/python3.11/dist-packages/pytensor/link/c/op.py\", line 84, in make_c_thunk\n",
            "    outputs = cl.make_thunk(\n",
            "              ^^^^^^^^^^^^^^\n",
            "  File \"/usr/local/lib/python3.11/dist-packages/pytensor/link/c/basic.py\", line 1185, in make_thunk\n",
            "    init_tasks, tasks = self.get_init_tasks()\n",
            "                                              \n",
            "  File \"/usr/local/lib/python3.11/dist-packages/pytensor/link/c/basic.py\", line 1102, in __compile__\n",
            "    output_storage = tuple(output_storage)\n",
            "                    ^^^^^^^^^^^^^^^^^^^^^^\n",
            "  File \"/usr/local/lib/python3.11/dist-packages/pytensor/link/c/basic.py\", line 1626, in cthunk_factory\n",
            "    # Set compute_map as None as clinker do not support lazy evaluation\n",
            "             ^^^^^^^^^^^^^^^^^^^^^^^^^^^^^^^^^^^^^^^^\n",
            "  File \"/usr/local/lib/python3.11/dist-packages/pytensor/link/c/cmodule.py\", line 1250, in module_from_key\n",
            "    module = lnk.compile_cmodule(location)\n",
            "             ^^^^^^^^^^^^^^^^^^^^^^^^^^^^^\n",
            "  File \"/usr/local/lib/python3.11/dist-packages/pytensor/link/c/basic.py\", line 1527, in compile_cmodule\n",
            "    # We want to compute the code without the lock\n",
            "                     ^^^^^^^^^^^^^^^^^^^^^^^^^^^^^\n",
            "  File \"/usr/local/lib/python3.11/dist-packages/pytensor/link/c/cmodule.py\", line 2676, in compile_str\n",
            "    raise CompileError(\n",
            "pytensor.link.c.exceptions.CompileError: Compilation failed (return status=1):\n",
            "/usr/bin/g++ -shared -g -O3 -fno-math-errno -Wno-unused-label -Wno-unused-variable -Wno-write-strings -Wno-c++11-narrowing -fno-exceptions -fno-unwind-tables -fno-asynchronous-unwind-tables -march=broadwell -mmmx -mpopcnt -msse -msse2 -msse3 -mssse3 -msse4.1 -msse4.2 -mavx -mavx2 -mno-sse4a -mno-fma4 -mno-xop -mfma -mno-avx512f -mbmi -mbmi2 -maes -mpclmul -mno-avx512vl -mno-avx512bw -mno-avx512dq -mno-avx512cd -mno-avx512er -mno-avx512pf -mno-avx512vbmi -mno-avx512ifma -mno-avx5124vnniw -mno-avx5124fmaps -mno-avx512vpopcntdq -mno-avx512vbmi2 -mno-gfni -mno-vpclmulqdq -mno-avx512vnni -mno-avx512bitalg -mno-avx512bf16 -mno-avx512vp2intersect -mno-3dnow -madx -mabm -mno-cldemote -mno-clflushopt -mno-clwb -mno-clzero -mcx16 -mno-enqcmd -mf16c -mfsgsbase -mfxsr -mhle -msahf -mno-lwp -mlzcnt -mmovbe -mno-movdir64b -mno-movdiri -mno-mwaitx -mno-pconfig -mno-pku -mno-prefetchwt1 -mprfchw -mno-ptwrite -mno-rdpid -mrdrnd -mrdseed -mrtm -mno-serialize -mno-sgx -mno-sha -mno-shstk -mno-tbm -mno-tsxldtrk -mno-vaes -mno-waitpkg -mno-wbnoinvd -mxsave -mno-xsavec -mxsaveopt -mno-xsaves -mno-amx-tile -mno-amx-int8 -mno-amx-bf16 -mno-uintr -mno-hreset -mno-kl -mno-widekl -mno-avxvnni --param l1-cache-size=32 --param l1-cache-line-size=64 --param l2-cache-size=56320 -mtune=broadwell -DNPY_NO_DEPRECATED_API=NPY_1_7_API_VERSION -m64 -fPIC -I/usr/local/lib/python3.11/dist-packages/numpy/_core/include -I/usr/include/python3.11 -I/usr/local/lib/python3.11/dist-packages/pytensor/link/c/c_code -L/usr/lib/x86_64-linux-gnu -L/usr/lib -fvisibility=hidden -o /root/.pytensor/compiledir_Linux-6.1.85+-x86_64-with-glibc2.35-x86_64-3.11.11-64/tmp7lefea0k/m3a950411050b810943c3042fc90477f763dda1abaf0cf4e92bcc0194f8dc7e70.so /root/.pytensor/compiledir_Linux-6.1.85+-x86_64-with-glibc2.35-x86_64-3.11.11-64/tmp7lefea0k/mod.cpp -lpython3.11\n",
            "/root/.pytensor/compiledir_Linux-6.1.85+-x86_64-with-glibc2.35-x86_64-3.11.11-64/tmp7lefea0k/mod.cpp:5:10: fatal error: numpy/arrayobject.h: No such file or directory\n",
            "    5 | #include <numpy/arrayobject.h>\n",
            "      |          ^~~~~~~~~~~~~~~~~~~~~\n",
            "compilation terminated.\n",
            "\n",
            "\n"
          ]
        },
        {
          "output_type": "stream",
          "name": "stdout",
          "text": [
            "\n",
            "You can find the C code in this temporary file: /tmp/pytensor_compilation_error_c1ay19ga\n",
            "\n",
            "You can find the C code in this temporary file: /tmp/pytensor_compilation_error_99ase7lg\n"
          ]
        },
        {
          "output_type": "stream",
          "name": "stderr",
          "text": [
            "ERROR:pytensor.graph.rewriting.basic:Rewrite failure due to: constant_folding\n",
            "ERROR:pytensor.graph.rewriting.basic:node: Cast{float64}(1000)\n",
            "ERROR:pytensor.graph.rewriting.basic:TRACEBACK:\n",
            "ERROR:pytensor.graph.rewriting.basic:Traceback (most recent call last):\n",
            "  File \"/usr/local/lib/python3.11/dist-packages/pytensor/graph/rewriting/basic.py\", line 1922, in process_node\n",
            "    return False\n",
            "               ^^\n",
            "  File \"/usr/local/lib/python3.11/dist-packages/pytensor/graph/rewriting/basic.py\", line 1086, in transform\n",
            "    return self.fn(fgraph, node)\n",
            "           ^^^^^^^^^^^^^^^^^^^^^\n",
            "  File \"/usr/local/lib/python3.11/dist-packages/pytensor/tensor/rewriting/basic.py\", line 1173, in constant_folding\n",
            "    return unconditional_constant_folding.transform(fgraph, node)\n",
            "           ^^^^^^^^^^^^^^^^^^^^^^^^^^^^^^^^^^^^^^^^^^^^^^^^^^^^^^\n",
            "  File \"/usr/local/lib/python3.11/dist-packages/pytensor/graph/rewriting/basic.py\", line 1086, in transform\n",
            "    return self.fn(fgraph, node)\n",
            "           ^^^^^^^^^^^^^^^^^^^^^\n",
            "  File \"/usr/local/lib/python3.11/dist-packages/pytensor/tensor/rewriting/basic.py\", line 1122, in unconditional_constant_folding\n",
            "    thunk = node.op.make_thunk(node, storage_map, compute_map, no_recycling=[])\n",
            "            ^^^^^^^^^^^^^^^^^^^^^^^^^^^^^^^^^^^^^^^^^^^^^^^^^^^^^^^^^^^^^^^^^^^\n",
            "  File \"/usr/local/lib/python3.11/dist-packages/pytensor/link/c/op.py\", line 119, in make_thunk\n",
            "    return self.make_c_thunk(node, storage_map, compute_map, no_recycling)\n",
            "           ^^^^^^^^^^^^^^^^^^^^^^^^^^^^^^^^^^^^^^^^^^^^^^^^^^^^^^^^^^^^^^^\n",
            "  File \"/usr/local/lib/python3.11/dist-packages/pytensor/link/c/op.py\", line 84, in make_c_thunk\n",
            "    outputs = cl.make_thunk(\n",
            "              ^^^^^^^^^^^^^^\n",
            "  File \"/usr/local/lib/python3.11/dist-packages/pytensor/link/c/basic.py\", line 1185, in make_thunk\n",
            "    init_tasks, tasks = self.get_init_tasks()\n",
            "                                              \n",
            "  File \"/usr/local/lib/python3.11/dist-packages/pytensor/link/c/basic.py\", line 1102, in __compile__\n",
            "    output_storage = tuple(output_storage)\n",
            "                    ^^^^^^^^^^^^^^^^^^^^^^\n",
            "  File \"/usr/local/lib/python3.11/dist-packages/pytensor/link/c/basic.py\", line 1626, in cthunk_factory\n",
            "    # Set compute_map as None as clinker do not support lazy evaluation\n",
            "             ^^^^^^^^^^^^^^^^^^^^^^^^^^^^^^^^^^^^^^^^\n",
            "  File \"/usr/local/lib/python3.11/dist-packages/pytensor/link/c/cmodule.py\", line 1250, in module_from_key\n",
            "    module = lnk.compile_cmodule(location)\n",
            "             ^^^^^^^^^^^^^^^^^^^^^^^^^^^^^\n",
            "  File \"/usr/local/lib/python3.11/dist-packages/pytensor/link/c/basic.py\", line 1527, in compile_cmodule\n",
            "    # We want to compute the code without the lock\n",
            "                     ^^^^^^^^^^^^^^^^^^^^^^^^^^^^^\n",
            "  File \"/usr/local/lib/python3.11/dist-packages/pytensor/link/c/cmodule.py\", line 2676, in compile_str\n",
            "    raise CompileError(\n",
            "pytensor.link.c.exceptions.CompileError: Compilation failed (return status=1):\n",
            "/usr/bin/g++ -shared -g -O3 -fno-math-errno -Wno-unused-label -Wno-unused-variable -Wno-write-strings -Wno-c++11-narrowing -fno-exceptions -fno-unwind-tables -fno-asynchronous-unwind-tables -march=broadwell -mmmx -mpopcnt -msse -msse2 -msse3 -mssse3 -msse4.1 -msse4.2 -mavx -mavx2 -mno-sse4a -mno-fma4 -mno-xop -mfma -mno-avx512f -mbmi -mbmi2 -maes -mpclmul -mno-avx512vl -mno-avx512bw -mno-avx512dq -mno-avx512cd -mno-avx512er -mno-avx512pf -mno-avx512vbmi -mno-avx512ifma -mno-avx5124vnniw -mno-avx5124fmaps -mno-avx512vpopcntdq -mno-avx512vbmi2 -mno-gfni -mno-vpclmulqdq -mno-avx512vnni -mno-avx512bitalg -mno-avx512bf16 -mno-avx512vp2intersect -mno-3dnow -madx -mabm -mno-cldemote -mno-clflushopt -mno-clwb -mno-clzero -mcx16 -mno-enqcmd -mf16c -mfsgsbase -mfxsr -mhle -msahf -mno-lwp -mlzcnt -mmovbe -mno-movdir64b -mno-movdiri -mno-mwaitx -mno-pconfig -mno-pku -mno-prefetchwt1 -mprfchw -mno-ptwrite -mno-rdpid -mrdrnd -mrdseed -mrtm -mno-serialize -mno-sgx -mno-sha -mno-shstk -mno-tbm -mno-tsxldtrk -mno-vaes -mno-waitpkg -mno-wbnoinvd -mxsave -mno-xsavec -mxsaveopt -mno-xsaves -mno-amx-tile -mno-amx-int8 -mno-amx-bf16 -mno-uintr -mno-hreset -mno-kl -mno-widekl -mno-avxvnni --param l1-cache-size=32 --param l1-cache-line-size=64 --param l2-cache-size=56320 -mtune=broadwell -DNPY_NO_DEPRECATED_API=NPY_1_7_API_VERSION -m64 -fPIC -I/usr/local/lib/python3.11/dist-packages/numpy/_core/include -I/usr/include/python3.11 -I/usr/local/lib/python3.11/dist-packages/pytensor/link/c/c_code -L/usr/lib/x86_64-linux-gnu -L/usr/lib -fvisibility=hidden -o /root/.pytensor/compiledir_Linux-6.1.85+-x86_64-with-glibc2.35-x86_64-3.11.11-64/tmp2wqihnt6/mb3c4f09dfbddec9be42c78405656f3ed5b2ce47050c523b443b10f9e45374264.so /root/.pytensor/compiledir_Linux-6.1.85+-x86_64-with-glibc2.35-x86_64-3.11.11-64/tmp2wqihnt6/mod.cpp -lpython3.11\n",
            "/root/.pytensor/compiledir_Linux-6.1.85+-x86_64-with-glibc2.35-x86_64-3.11.11-64/tmp2wqihnt6/mod.cpp:5:10: fatal error: numpy/arrayobject.h: No such file or directory\n",
            "    5 | #include <numpy/arrayobject.h>\n",
            "      |          ^~~~~~~~~~~~~~~~~~~~~\n",
            "compilation terminated.\n",
            "\n",
            "\n",
            "ERROR:pytensor.graph.rewriting.basic:Rewrite failure due to: constant_folding\n",
            "ERROR:pytensor.graph.rewriting.basic:node: ExpandDims{axis=0}(1.4189121719466673)\n",
            "ERROR:pytensor.graph.rewriting.basic:TRACEBACK:\n",
            "ERROR:pytensor.graph.rewriting.basic:Traceback (most recent call last):\n",
            "  File \"/usr/local/lib/python3.11/dist-packages/pytensor/graph/rewriting/basic.py\", line 1922, in process_node\n",
            "    return False\n",
            "               ^^\n",
            "  File \"/usr/local/lib/python3.11/dist-packages/pytensor/graph/rewriting/basic.py\", line 1086, in transform\n",
            "    return self.fn(fgraph, node)\n",
            "           ^^^^^^^^^^^^^^^^^^^^^\n",
            "  File \"/usr/local/lib/python3.11/dist-packages/pytensor/tensor/rewriting/basic.py\", line 1173, in constant_folding\n",
            "    return unconditional_constant_folding.transform(fgraph, node)\n",
            "           ^^^^^^^^^^^^^^^^^^^^^^^^^^^^^^^^^^^^^^^^^^^^^^^^^^^^^^\n",
            "  File \"/usr/local/lib/python3.11/dist-packages/pytensor/graph/rewriting/basic.py\", line 1086, in transform\n",
            "    return self.fn(fgraph, node)\n",
            "           ^^^^^^^^^^^^^^^^^^^^^\n",
            "  File \"/usr/local/lib/python3.11/dist-packages/pytensor/tensor/rewriting/basic.py\", line 1122, in unconditional_constant_folding\n",
            "    thunk = node.op.make_thunk(node, storage_map, compute_map, no_recycling=[])\n",
            "            ^^^^^^^^^^^^^^^^^^^^^^^^^^^^^^^^^^^^^^^^^^^^^^^^^^^^^^^^^^^^^^^^^^^\n",
            "  File \"/usr/local/lib/python3.11/dist-packages/pytensor/link/c/op.py\", line 119, in make_thunk\n",
            "    return self.make_c_thunk(node, storage_map, compute_map, no_recycling)\n",
            "           ^^^^^^^^^^^^^^^^^^^^^^^^^^^^^^^^^^^^^^^^^^^^^^^^^^^^^^^^^^^^^^^\n",
            "  File \"/usr/local/lib/python3.11/dist-packages/pytensor/link/c/op.py\", line 84, in make_c_thunk\n",
            "    outputs = cl.make_thunk(\n",
            "              ^^^^^^^^^^^^^^\n",
            "  File \"/usr/local/lib/python3.11/dist-packages/pytensor/link/c/basic.py\", line 1185, in make_thunk\n",
            "    init_tasks, tasks = self.get_init_tasks()\n",
            "                                              \n",
            "  File \"/usr/local/lib/python3.11/dist-packages/pytensor/link/c/basic.py\", line 1102, in __compile__\n",
            "    output_storage = tuple(output_storage)\n",
            "                    ^^^^^^^^^^^^^^^^^^^^^^\n",
            "  File \"/usr/local/lib/python3.11/dist-packages/pytensor/link/c/basic.py\", line 1626, in cthunk_factory\n",
            "    # Set compute_map as None as clinker do not support lazy evaluation\n",
            "             ^^^^^^^^^^^^^^^^^^^^^^^^^^^^^^^^^^^^^^^^\n",
            "  File \"/usr/local/lib/python3.11/dist-packages/pytensor/link/c/cmodule.py\", line 1250, in module_from_key\n",
            "    module = lnk.compile_cmodule(location)\n",
            "             ^^^^^^^^^^^^^^^^^^^^^^^^^^^^^\n",
            "  File \"/usr/local/lib/python3.11/dist-packages/pytensor/link/c/basic.py\", line 1527, in compile_cmodule\n",
            "    # We want to compute the code without the lock\n",
            "                     ^^^^^^^^^^^^^^^^^^^^^^^^^^^^^\n",
            "  File \"/usr/local/lib/python3.11/dist-packages/pytensor/link/c/cmodule.py\", line 2676, in compile_str\n",
            "    raise CompileError(\n",
            "pytensor.link.c.exceptions.CompileError: Compilation failed (return status=1):\n",
            "/usr/bin/g++ -shared -g -O3 -fno-math-errno -Wno-unused-label -Wno-unused-variable -Wno-write-strings -Wno-c++11-narrowing -fno-exceptions -fno-unwind-tables -fno-asynchronous-unwind-tables -march=broadwell -mmmx -mpopcnt -msse -msse2 -msse3 -mssse3 -msse4.1 -msse4.2 -mavx -mavx2 -mno-sse4a -mno-fma4 -mno-xop -mfma -mno-avx512f -mbmi -mbmi2 -maes -mpclmul -mno-avx512vl -mno-avx512bw -mno-avx512dq -mno-avx512cd -mno-avx512er -mno-avx512pf -mno-avx512vbmi -mno-avx512ifma -mno-avx5124vnniw -mno-avx5124fmaps -mno-avx512vpopcntdq -mno-avx512vbmi2 -mno-gfni -mno-vpclmulqdq -mno-avx512vnni -mno-avx512bitalg -mno-avx512bf16 -mno-avx512vp2intersect -mno-3dnow -madx -mabm -mno-cldemote -mno-clflushopt -mno-clwb -mno-clzero -mcx16 -mno-enqcmd -mf16c -mfsgsbase -mfxsr -mhle -msahf -mno-lwp -mlzcnt -mmovbe -mno-movdir64b -mno-movdiri -mno-mwaitx -mno-pconfig -mno-pku -mno-prefetchwt1 -mprfchw -mno-ptwrite -mno-rdpid -mrdrnd -mrdseed -mrtm -mno-serialize -mno-sgx -mno-sha -mno-shstk -mno-tbm -mno-tsxldtrk -mno-vaes -mno-waitpkg -mno-wbnoinvd -mxsave -mno-xsavec -mxsaveopt -mno-xsaves -mno-amx-tile -mno-amx-int8 -mno-amx-bf16 -mno-uintr -mno-hreset -mno-kl -mno-widekl -mno-avxvnni --param l1-cache-size=32 --param l1-cache-line-size=64 --param l2-cache-size=56320 -mtune=broadwell -DNPY_NO_DEPRECATED_API=NPY_1_7_API_VERSION -m64 -fPIC -I/usr/local/lib/python3.11/dist-packages/numpy/_core/include -I/usr/include/python3.11 -I/usr/local/lib/python3.11/dist-packages/pytensor/link/c/c_code -L/usr/lib/x86_64-linux-gnu -L/usr/lib -fvisibility=hidden -o /root/.pytensor/compiledir_Linux-6.1.85+-x86_64-with-glibc2.35-x86_64-3.11.11-64/tmphqol45wi/m3a950411050b810943c3042fc90477f763dda1abaf0cf4e92bcc0194f8dc7e70.so /root/.pytensor/compiledir_Linux-6.1.85+-x86_64-with-glibc2.35-x86_64-3.11.11-64/tmphqol45wi/mod.cpp -lpython3.11\n",
            "/root/.pytensor/compiledir_Linux-6.1.85+-x86_64-with-glibc2.35-x86_64-3.11.11-64/tmphqol45wi/mod.cpp:5:10: fatal error: numpy/arrayobject.h: No such file or directory\n",
            "    5 | #include <numpy/arrayobject.h>\n",
            "      |          ^~~~~~~~~~~~~~~~~~~~~\n",
            "compilation terminated.\n",
            "\n",
            "\n"
          ]
        },
        {
          "output_type": "stream",
          "name": "stdout",
          "text": [
            "\n",
            "You can find the C code in this temporary file: /tmp/pytensor_compilation_error_e64_q3y8\n",
            "\n",
            "You can find the C code in this temporary file: /tmp/pytensor_compilation_error_99q0j2uj\n"
          ]
        },
        {
          "output_type": "stream",
          "name": "stderr",
          "text": [
            "ERROR:pytensor.graph.rewriting.basic:Rewrite failure due to: constant_folding\n",
            "ERROR:pytensor.graph.rewriting.basic:node: Cast{float64}(1000)\n",
            "ERROR:pytensor.graph.rewriting.basic:TRACEBACK:\n",
            "ERROR:pytensor.graph.rewriting.basic:Traceback (most recent call last):\n",
            "  File \"/usr/local/lib/python3.11/dist-packages/pytensor/graph/rewriting/basic.py\", line 1922, in process_node\n",
            "    return False\n",
            "               ^^\n",
            "  File \"/usr/local/lib/python3.11/dist-packages/pytensor/graph/rewriting/basic.py\", line 1086, in transform\n",
            "    return self.fn(fgraph, node)\n",
            "           ^^^^^^^^^^^^^^^^^^^^^\n",
            "  File \"/usr/local/lib/python3.11/dist-packages/pytensor/tensor/rewriting/basic.py\", line 1173, in constant_folding\n",
            "    return unconditional_constant_folding.transform(fgraph, node)\n",
            "           ^^^^^^^^^^^^^^^^^^^^^^^^^^^^^^^^^^^^^^^^^^^^^^^^^^^^^^\n",
            "  File \"/usr/local/lib/python3.11/dist-packages/pytensor/graph/rewriting/basic.py\", line 1086, in transform\n",
            "    return self.fn(fgraph, node)\n",
            "           ^^^^^^^^^^^^^^^^^^^^^\n",
            "  File \"/usr/local/lib/python3.11/dist-packages/pytensor/tensor/rewriting/basic.py\", line 1122, in unconditional_constant_folding\n",
            "    thunk = node.op.make_thunk(node, storage_map, compute_map, no_recycling=[])\n",
            "            ^^^^^^^^^^^^^^^^^^^^^^^^^^^^^^^^^^^^^^^^^^^^^^^^^^^^^^^^^^^^^^^^^^^\n",
            "  File \"/usr/local/lib/python3.11/dist-packages/pytensor/link/c/op.py\", line 119, in make_thunk\n",
            "    return self.make_c_thunk(node, storage_map, compute_map, no_recycling)\n",
            "           ^^^^^^^^^^^^^^^^^^^^^^^^^^^^^^^^^^^^^^^^^^^^^^^^^^^^^^^^^^^^^^^\n",
            "  File \"/usr/local/lib/python3.11/dist-packages/pytensor/link/c/op.py\", line 84, in make_c_thunk\n",
            "    outputs = cl.make_thunk(\n",
            "              ^^^^^^^^^^^^^^\n",
            "  File \"/usr/local/lib/python3.11/dist-packages/pytensor/link/c/basic.py\", line 1185, in make_thunk\n",
            "    init_tasks, tasks = self.get_init_tasks()\n",
            "                                              \n",
            "  File \"/usr/local/lib/python3.11/dist-packages/pytensor/link/c/basic.py\", line 1102, in __compile__\n",
            "    output_storage = tuple(output_storage)\n",
            "                    ^^^^^^^^^^^^^^^^^^^^^^\n",
            "  File \"/usr/local/lib/python3.11/dist-packages/pytensor/link/c/basic.py\", line 1626, in cthunk_factory\n",
            "    # Set compute_map as None as clinker do not support lazy evaluation\n",
            "             ^^^^^^^^^^^^^^^^^^^^^^^^^^^^^^^^^^^^^^^^\n",
            "  File \"/usr/local/lib/python3.11/dist-packages/pytensor/link/c/cmodule.py\", line 1250, in module_from_key\n",
            "    module = lnk.compile_cmodule(location)\n",
            "             ^^^^^^^^^^^^^^^^^^^^^^^^^^^^^\n",
            "  File \"/usr/local/lib/python3.11/dist-packages/pytensor/link/c/basic.py\", line 1527, in compile_cmodule\n",
            "    # We want to compute the code without the lock\n",
            "                     ^^^^^^^^^^^^^^^^^^^^^^^^^^^^^\n",
            "  File \"/usr/local/lib/python3.11/dist-packages/pytensor/link/c/cmodule.py\", line 2676, in compile_str\n",
            "    raise CompileError(\n",
            "pytensor.link.c.exceptions.CompileError: Compilation failed (return status=1):\n",
            "/usr/bin/g++ -shared -g -O3 -fno-math-errno -Wno-unused-label -Wno-unused-variable -Wno-write-strings -Wno-c++11-narrowing -fno-exceptions -fno-unwind-tables -fno-asynchronous-unwind-tables -march=broadwell -mmmx -mpopcnt -msse -msse2 -msse3 -mssse3 -msse4.1 -msse4.2 -mavx -mavx2 -mno-sse4a -mno-fma4 -mno-xop -mfma -mno-avx512f -mbmi -mbmi2 -maes -mpclmul -mno-avx512vl -mno-avx512bw -mno-avx512dq -mno-avx512cd -mno-avx512er -mno-avx512pf -mno-avx512vbmi -mno-avx512ifma -mno-avx5124vnniw -mno-avx5124fmaps -mno-avx512vpopcntdq -mno-avx512vbmi2 -mno-gfni -mno-vpclmulqdq -mno-avx512vnni -mno-avx512bitalg -mno-avx512bf16 -mno-avx512vp2intersect -mno-3dnow -madx -mabm -mno-cldemote -mno-clflushopt -mno-clwb -mno-clzero -mcx16 -mno-enqcmd -mf16c -mfsgsbase -mfxsr -mhle -msahf -mno-lwp -mlzcnt -mmovbe -mno-movdir64b -mno-movdiri -mno-mwaitx -mno-pconfig -mno-pku -mno-prefetchwt1 -mprfchw -mno-ptwrite -mno-rdpid -mrdrnd -mrdseed -mrtm -mno-serialize -mno-sgx -mno-sha -mno-shstk -mno-tbm -mno-tsxldtrk -mno-vaes -mno-waitpkg -mno-wbnoinvd -mxsave -mno-xsavec -mxsaveopt -mno-xsaves -mno-amx-tile -mno-amx-int8 -mno-amx-bf16 -mno-uintr -mno-hreset -mno-kl -mno-widekl -mno-avxvnni --param l1-cache-size=32 --param l1-cache-line-size=64 --param l2-cache-size=56320 -mtune=broadwell -DNPY_NO_DEPRECATED_API=NPY_1_7_API_VERSION -m64 -fPIC -I/usr/local/lib/python3.11/dist-packages/numpy/_core/include -I/usr/include/python3.11 -I/usr/local/lib/python3.11/dist-packages/pytensor/link/c/c_code -L/usr/lib/x86_64-linux-gnu -L/usr/lib -fvisibility=hidden -o /root/.pytensor/compiledir_Linux-6.1.85+-x86_64-with-glibc2.35-x86_64-3.11.11-64/tmp9b7h7w1g/mb3c4f09dfbddec9be42c78405656f3ed5b2ce47050c523b443b10f9e45374264.so /root/.pytensor/compiledir_Linux-6.1.85+-x86_64-with-glibc2.35-x86_64-3.11.11-64/tmp9b7h7w1g/mod.cpp -lpython3.11\n",
            "/root/.pytensor/compiledir_Linux-6.1.85+-x86_64-with-glibc2.35-x86_64-3.11.11-64/tmp9b7h7w1g/mod.cpp:5:10: fatal error: numpy/arrayobject.h: No such file or directory\n",
            "    5 | #include <numpy/arrayobject.h>\n",
            "      |          ^~~~~~~~~~~~~~~~~~~~~\n",
            "compilation terminated.\n",
            "\n",
            "\n",
            "ERROR:pytensor.graph.rewriting.basic:Rewrite failure due to: constant_folding\n",
            "ERROR:pytensor.graph.rewriting.basic:node: ExpandDims{axis=0}(1.4189121719466673)\n",
            "ERROR:pytensor.graph.rewriting.basic:TRACEBACK:\n",
            "ERROR:pytensor.graph.rewriting.basic:Traceback (most recent call last):\n",
            "  File \"/usr/local/lib/python3.11/dist-packages/pytensor/graph/rewriting/basic.py\", line 1922, in process_node\n",
            "    return False\n",
            "               ^^\n",
            "  File \"/usr/local/lib/python3.11/dist-packages/pytensor/graph/rewriting/basic.py\", line 1086, in transform\n",
            "    return self.fn(fgraph, node)\n",
            "           ^^^^^^^^^^^^^^^^^^^^^\n",
            "  File \"/usr/local/lib/python3.11/dist-packages/pytensor/tensor/rewriting/basic.py\", line 1173, in constant_folding\n",
            "    return unconditional_constant_folding.transform(fgraph, node)\n",
            "           ^^^^^^^^^^^^^^^^^^^^^^^^^^^^^^^^^^^^^^^^^^^^^^^^^^^^^^\n",
            "  File \"/usr/local/lib/python3.11/dist-packages/pytensor/graph/rewriting/basic.py\", line 1086, in transform\n",
            "    return self.fn(fgraph, node)\n",
            "           ^^^^^^^^^^^^^^^^^^^^^\n",
            "  File \"/usr/local/lib/python3.11/dist-packages/pytensor/tensor/rewriting/basic.py\", line 1122, in unconditional_constant_folding\n",
            "    thunk = node.op.make_thunk(node, storage_map, compute_map, no_recycling=[])\n",
            "            ^^^^^^^^^^^^^^^^^^^^^^^^^^^^^^^^^^^^^^^^^^^^^^^^^^^^^^^^^^^^^^^^^^^\n",
            "  File \"/usr/local/lib/python3.11/dist-packages/pytensor/link/c/op.py\", line 119, in make_thunk\n",
            "    return self.make_c_thunk(node, storage_map, compute_map, no_recycling)\n",
            "           ^^^^^^^^^^^^^^^^^^^^^^^^^^^^^^^^^^^^^^^^^^^^^^^^^^^^^^^^^^^^^^^\n",
            "  File \"/usr/local/lib/python3.11/dist-packages/pytensor/link/c/op.py\", line 84, in make_c_thunk\n",
            "    outputs = cl.make_thunk(\n",
            "              ^^^^^^^^^^^^^^\n",
            "  File \"/usr/local/lib/python3.11/dist-packages/pytensor/link/c/basic.py\", line 1185, in make_thunk\n",
            "    init_tasks, tasks = self.get_init_tasks()\n",
            "                                              \n",
            "  File \"/usr/local/lib/python3.11/dist-packages/pytensor/link/c/basic.py\", line 1102, in __compile__\n",
            "    output_storage = tuple(output_storage)\n",
            "                    ^^^^^^^^^^^^^^^^^^^^^^\n",
            "  File \"/usr/local/lib/python3.11/dist-packages/pytensor/link/c/basic.py\", line 1626, in cthunk_factory\n",
            "    # Set compute_map as None as clinker do not support lazy evaluation\n",
            "             ^^^^^^^^^^^^^^^^^^^^^^^^^^^^^^^^^^^^^^^^\n",
            "  File \"/usr/local/lib/python3.11/dist-packages/pytensor/link/c/cmodule.py\", line 1250, in module_from_key\n",
            "    module = lnk.compile_cmodule(location)\n",
            "             ^^^^^^^^^^^^^^^^^^^^^^^^^^^^^\n",
            "  File \"/usr/local/lib/python3.11/dist-packages/pytensor/link/c/basic.py\", line 1527, in compile_cmodule\n",
            "    # We want to compute the code without the lock\n",
            "                     ^^^^^^^^^^^^^^^^^^^^^^^^^^^^^\n",
            "  File \"/usr/local/lib/python3.11/dist-packages/pytensor/link/c/cmodule.py\", line 2676, in compile_str\n",
            "    raise CompileError(\n",
            "pytensor.link.c.exceptions.CompileError: Compilation failed (return status=1):\n",
            "/usr/bin/g++ -shared -g -O3 -fno-math-errno -Wno-unused-label -Wno-unused-variable -Wno-write-strings -Wno-c++11-narrowing -fno-exceptions -fno-unwind-tables -fno-asynchronous-unwind-tables -march=broadwell -mmmx -mpopcnt -msse -msse2 -msse3 -mssse3 -msse4.1 -msse4.2 -mavx -mavx2 -mno-sse4a -mno-fma4 -mno-xop -mfma -mno-avx512f -mbmi -mbmi2 -maes -mpclmul -mno-avx512vl -mno-avx512bw -mno-avx512dq -mno-avx512cd -mno-avx512er -mno-avx512pf -mno-avx512vbmi -mno-avx512ifma -mno-avx5124vnniw -mno-avx5124fmaps -mno-avx512vpopcntdq -mno-avx512vbmi2 -mno-gfni -mno-vpclmulqdq -mno-avx512vnni -mno-avx512bitalg -mno-avx512bf16 -mno-avx512vp2intersect -mno-3dnow -madx -mabm -mno-cldemote -mno-clflushopt -mno-clwb -mno-clzero -mcx16 -mno-enqcmd -mf16c -mfsgsbase -mfxsr -mhle -msahf -mno-lwp -mlzcnt -mmovbe -mno-movdir64b -mno-movdiri -mno-mwaitx -mno-pconfig -mno-pku -mno-prefetchwt1 -mprfchw -mno-ptwrite -mno-rdpid -mrdrnd -mrdseed -mrtm -mno-serialize -mno-sgx -mno-sha -mno-shstk -mno-tbm -mno-tsxldtrk -mno-vaes -mno-waitpkg -mno-wbnoinvd -mxsave -mno-xsavec -mxsaveopt -mno-xsaves -mno-amx-tile -mno-amx-int8 -mno-amx-bf16 -mno-uintr -mno-hreset -mno-kl -mno-widekl -mno-avxvnni --param l1-cache-size=32 --param l1-cache-line-size=64 --param l2-cache-size=56320 -mtune=broadwell -DNPY_NO_DEPRECATED_API=NPY_1_7_API_VERSION -m64 -fPIC -I/usr/local/lib/python3.11/dist-packages/numpy/_core/include -I/usr/include/python3.11 -I/usr/local/lib/python3.11/dist-packages/pytensor/link/c/c_code -L/usr/lib/x86_64-linux-gnu -L/usr/lib -fvisibility=hidden -o /root/.pytensor/compiledir_Linux-6.1.85+-x86_64-with-glibc2.35-x86_64-3.11.11-64/tmppjd0b064/m3a950411050b810943c3042fc90477f763dda1abaf0cf4e92bcc0194f8dc7e70.so /root/.pytensor/compiledir_Linux-6.1.85+-x86_64-with-glibc2.35-x86_64-3.11.11-64/tmppjd0b064/mod.cpp -lpython3.11\n",
            "/root/.pytensor/compiledir_Linux-6.1.85+-x86_64-with-glibc2.35-x86_64-3.11.11-64/tmppjd0b064/mod.cpp:5:10: fatal error: numpy/arrayobject.h: No such file or directory\n",
            "    5 | #include <numpy/arrayobject.h>\n",
            "      |          ^~~~~~~~~~~~~~~~~~~~~\n",
            "compilation terminated.\n",
            "\n",
            "\n"
          ]
        },
        {
          "output_type": "stream",
          "name": "stdout",
          "text": [
            "\n",
            "You can find the C code in this temporary file: /tmp/pytensor_compilation_error_5lrxuvtf\n",
            "\n",
            "You can find the C code in this temporary file: /tmp/pytensor_compilation_error_m_muof9l\n"
          ]
        },
        {
          "output_type": "stream",
          "name": "stderr",
          "text": [
            "ERROR:pytensor.graph.rewriting.basic:Rewrite failure due to: constant_folding\n",
            "ERROR:pytensor.graph.rewriting.basic:node: Cast{float64}(1000)\n",
            "ERROR:pytensor.graph.rewriting.basic:TRACEBACK:\n",
            "ERROR:pytensor.graph.rewriting.basic:Traceback (most recent call last):\n",
            "  File \"/usr/local/lib/python3.11/dist-packages/pytensor/graph/rewriting/basic.py\", line 1922, in process_node\n",
            "    return False\n",
            "               ^^\n",
            "  File \"/usr/local/lib/python3.11/dist-packages/pytensor/graph/rewriting/basic.py\", line 1086, in transform\n",
            "    return self.fn(fgraph, node)\n",
            "           ^^^^^^^^^^^^^^^^^^^^^\n",
            "  File \"/usr/local/lib/python3.11/dist-packages/pytensor/tensor/rewriting/basic.py\", line 1173, in constant_folding\n",
            "    return unconditional_constant_folding.transform(fgraph, node)\n",
            "           ^^^^^^^^^^^^^^^^^^^^^^^^^^^^^^^^^^^^^^^^^^^^^^^^^^^^^^\n",
            "  File \"/usr/local/lib/python3.11/dist-packages/pytensor/graph/rewriting/basic.py\", line 1086, in transform\n",
            "    return self.fn(fgraph, node)\n",
            "           ^^^^^^^^^^^^^^^^^^^^^\n",
            "  File \"/usr/local/lib/python3.11/dist-packages/pytensor/tensor/rewriting/basic.py\", line 1122, in unconditional_constant_folding\n",
            "    thunk = node.op.make_thunk(node, storage_map, compute_map, no_recycling=[])\n",
            "            ^^^^^^^^^^^^^^^^^^^^^^^^^^^^^^^^^^^^^^^^^^^^^^^^^^^^^^^^^^^^^^^^^^^\n",
            "  File \"/usr/local/lib/python3.11/dist-packages/pytensor/link/c/op.py\", line 119, in make_thunk\n",
            "    return self.make_c_thunk(node, storage_map, compute_map, no_recycling)\n",
            "           ^^^^^^^^^^^^^^^^^^^^^^^^^^^^^^^^^^^^^^^^^^^^^^^^^^^^^^^^^^^^^^^\n",
            "  File \"/usr/local/lib/python3.11/dist-packages/pytensor/link/c/op.py\", line 84, in make_c_thunk\n",
            "    outputs = cl.make_thunk(\n",
            "              ^^^^^^^^^^^^^^\n",
            "  File \"/usr/local/lib/python3.11/dist-packages/pytensor/link/c/basic.py\", line 1185, in make_thunk\n",
            "    init_tasks, tasks = self.get_init_tasks()\n",
            "                                              \n",
            "  File \"/usr/local/lib/python3.11/dist-packages/pytensor/link/c/basic.py\", line 1102, in __compile__\n",
            "    output_storage = tuple(output_storage)\n",
            "                    ^^^^^^^^^^^^^^^^^^^^^^\n",
            "  File \"/usr/local/lib/python3.11/dist-packages/pytensor/link/c/basic.py\", line 1626, in cthunk_factory\n",
            "    # Set compute_map as None as clinker do not support lazy evaluation\n",
            "             ^^^^^^^^^^^^^^^^^^^^^^^^^^^^^^^^^^^^^^^^\n",
            "  File \"/usr/local/lib/python3.11/dist-packages/pytensor/link/c/cmodule.py\", line 1250, in module_from_key\n",
            "    module = lnk.compile_cmodule(location)\n",
            "             ^^^^^^^^^^^^^^^^^^^^^^^^^^^^^\n",
            "  File \"/usr/local/lib/python3.11/dist-packages/pytensor/link/c/basic.py\", line 1527, in compile_cmodule\n",
            "    # We want to compute the code without the lock\n",
            "                     ^^^^^^^^^^^^^^^^^^^^^^^^^^^^^\n",
            "  File \"/usr/local/lib/python3.11/dist-packages/pytensor/link/c/cmodule.py\", line 2676, in compile_str\n",
            "    raise CompileError(\n",
            "pytensor.link.c.exceptions.CompileError: Compilation failed (return status=1):\n",
            "/usr/bin/g++ -shared -g -O3 -fno-math-errno -Wno-unused-label -Wno-unused-variable -Wno-write-strings -Wno-c++11-narrowing -fno-exceptions -fno-unwind-tables -fno-asynchronous-unwind-tables -march=broadwell -mmmx -mpopcnt -msse -msse2 -msse3 -mssse3 -msse4.1 -msse4.2 -mavx -mavx2 -mno-sse4a -mno-fma4 -mno-xop -mfma -mno-avx512f -mbmi -mbmi2 -maes -mpclmul -mno-avx512vl -mno-avx512bw -mno-avx512dq -mno-avx512cd -mno-avx512er -mno-avx512pf -mno-avx512vbmi -mno-avx512ifma -mno-avx5124vnniw -mno-avx5124fmaps -mno-avx512vpopcntdq -mno-avx512vbmi2 -mno-gfni -mno-vpclmulqdq -mno-avx512vnni -mno-avx512bitalg -mno-avx512bf16 -mno-avx512vp2intersect -mno-3dnow -madx -mabm -mno-cldemote -mno-clflushopt -mno-clwb -mno-clzero -mcx16 -mno-enqcmd -mf16c -mfsgsbase -mfxsr -mhle -msahf -mno-lwp -mlzcnt -mmovbe -mno-movdir64b -mno-movdiri -mno-mwaitx -mno-pconfig -mno-pku -mno-prefetchwt1 -mprfchw -mno-ptwrite -mno-rdpid -mrdrnd -mrdseed -mrtm -mno-serialize -mno-sgx -mno-sha -mno-shstk -mno-tbm -mno-tsxldtrk -mno-vaes -mno-waitpkg -mno-wbnoinvd -mxsave -mno-xsavec -mxsaveopt -mno-xsaves -mno-amx-tile -mno-amx-int8 -mno-amx-bf16 -mno-uintr -mno-hreset -mno-kl -mno-widekl -mno-avxvnni --param l1-cache-size=32 --param l1-cache-line-size=64 --param l2-cache-size=56320 -mtune=broadwell -DNPY_NO_DEPRECATED_API=NPY_1_7_API_VERSION -m64 -fPIC -I/usr/local/lib/python3.11/dist-packages/numpy/_core/include -I/usr/include/python3.11 -I/usr/local/lib/python3.11/dist-packages/pytensor/link/c/c_code -L/usr/lib/x86_64-linux-gnu -L/usr/lib -fvisibility=hidden -o /root/.pytensor/compiledir_Linux-6.1.85+-x86_64-with-glibc2.35-x86_64-3.11.11-64/tmp80rga75t/mb3c4f09dfbddec9be42c78405656f3ed5b2ce47050c523b443b10f9e45374264.so /root/.pytensor/compiledir_Linux-6.1.85+-x86_64-with-glibc2.35-x86_64-3.11.11-64/tmp80rga75t/mod.cpp -lpython3.11\n",
            "/root/.pytensor/compiledir_Linux-6.1.85+-x86_64-with-glibc2.35-x86_64-3.11.11-64/tmp80rga75t/mod.cpp:5:10: fatal error: numpy/arrayobject.h: No such file or directory\n",
            "    5 | #include <numpy/arrayobject.h>\n",
            "      |          ^~~~~~~~~~~~~~~~~~~~~\n",
            "compilation terminated.\n",
            "\n",
            "\n",
            "ERROR:pytensor.graph.rewriting.basic:Rewrite failure due to: constant_folding\n",
            "ERROR:pytensor.graph.rewriting.basic:node: ExpandDims{axis=0}(1.4189121719466673)\n",
            "ERROR:pytensor.graph.rewriting.basic:TRACEBACK:\n",
            "ERROR:pytensor.graph.rewriting.basic:Traceback (most recent call last):\n",
            "  File \"/usr/local/lib/python3.11/dist-packages/pytensor/graph/rewriting/basic.py\", line 1922, in process_node\n",
            "    return False\n",
            "               ^^\n",
            "  File \"/usr/local/lib/python3.11/dist-packages/pytensor/graph/rewriting/basic.py\", line 1086, in transform\n",
            "    return self.fn(fgraph, node)\n",
            "           ^^^^^^^^^^^^^^^^^^^^^\n",
            "  File \"/usr/local/lib/python3.11/dist-packages/pytensor/tensor/rewriting/basic.py\", line 1173, in constant_folding\n",
            "    return unconditional_constant_folding.transform(fgraph, node)\n",
            "           ^^^^^^^^^^^^^^^^^^^^^^^^^^^^^^^^^^^^^^^^^^^^^^^^^^^^^^\n",
            "  File \"/usr/local/lib/python3.11/dist-packages/pytensor/graph/rewriting/basic.py\", line 1086, in transform\n",
            "    return self.fn(fgraph, node)\n",
            "           ^^^^^^^^^^^^^^^^^^^^^\n",
            "  File \"/usr/local/lib/python3.11/dist-packages/pytensor/tensor/rewriting/basic.py\", line 1122, in unconditional_constant_folding\n",
            "    thunk = node.op.make_thunk(node, storage_map, compute_map, no_recycling=[])\n",
            "            ^^^^^^^^^^^^^^^^^^^^^^^^^^^^^^^^^^^^^^^^^^^^^^^^^^^^^^^^^^^^^^^^^^^\n",
            "  File \"/usr/local/lib/python3.11/dist-packages/pytensor/link/c/op.py\", line 119, in make_thunk\n",
            "    return self.make_c_thunk(node, storage_map, compute_map, no_recycling)\n",
            "           ^^^^^^^^^^^^^^^^^^^^^^^^^^^^^^^^^^^^^^^^^^^^^^^^^^^^^^^^^^^^^^^\n",
            "  File \"/usr/local/lib/python3.11/dist-packages/pytensor/link/c/op.py\", line 84, in make_c_thunk\n",
            "    outputs = cl.make_thunk(\n",
            "              ^^^^^^^^^^^^^^\n",
            "  File \"/usr/local/lib/python3.11/dist-packages/pytensor/link/c/basic.py\", line 1185, in make_thunk\n",
            "    init_tasks, tasks = self.get_init_tasks()\n",
            "                                              \n",
            "  File \"/usr/local/lib/python3.11/dist-packages/pytensor/link/c/basic.py\", line 1102, in __compile__\n",
            "    output_storage = tuple(output_storage)\n",
            "                    ^^^^^^^^^^^^^^^^^^^^^^\n",
            "  File \"/usr/local/lib/python3.11/dist-packages/pytensor/link/c/basic.py\", line 1626, in cthunk_factory\n",
            "    # Set compute_map as None as clinker do not support lazy evaluation\n",
            "             ^^^^^^^^^^^^^^^^^^^^^^^^^^^^^^^^^^^^^^^^\n",
            "  File \"/usr/local/lib/python3.11/dist-packages/pytensor/link/c/cmodule.py\", line 1250, in module_from_key\n",
            "    module = lnk.compile_cmodule(location)\n",
            "             ^^^^^^^^^^^^^^^^^^^^^^^^^^^^^\n",
            "  File \"/usr/local/lib/python3.11/dist-packages/pytensor/link/c/basic.py\", line 1527, in compile_cmodule\n",
            "    # We want to compute the code without the lock\n",
            "                     ^^^^^^^^^^^^^^^^^^^^^^^^^^^^^\n",
            "  File \"/usr/local/lib/python3.11/dist-packages/pytensor/link/c/cmodule.py\", line 2676, in compile_str\n",
            "    raise CompileError(\n",
            "pytensor.link.c.exceptions.CompileError: Compilation failed (return status=1):\n",
            "/usr/bin/g++ -shared -g -O3 -fno-math-errno -Wno-unused-label -Wno-unused-variable -Wno-write-strings -Wno-c++11-narrowing -fno-exceptions -fno-unwind-tables -fno-asynchronous-unwind-tables -march=broadwell -mmmx -mpopcnt -msse -msse2 -msse3 -mssse3 -msse4.1 -msse4.2 -mavx -mavx2 -mno-sse4a -mno-fma4 -mno-xop -mfma -mno-avx512f -mbmi -mbmi2 -maes -mpclmul -mno-avx512vl -mno-avx512bw -mno-avx512dq -mno-avx512cd -mno-avx512er -mno-avx512pf -mno-avx512vbmi -mno-avx512ifma -mno-avx5124vnniw -mno-avx5124fmaps -mno-avx512vpopcntdq -mno-avx512vbmi2 -mno-gfni -mno-vpclmulqdq -mno-avx512vnni -mno-avx512bitalg -mno-avx512bf16 -mno-avx512vp2intersect -mno-3dnow -madx -mabm -mno-cldemote -mno-clflushopt -mno-clwb -mno-clzero -mcx16 -mno-enqcmd -mf16c -mfsgsbase -mfxsr -mhle -msahf -mno-lwp -mlzcnt -mmovbe -mno-movdir64b -mno-movdiri -mno-mwaitx -mno-pconfig -mno-pku -mno-prefetchwt1 -mprfchw -mno-ptwrite -mno-rdpid -mrdrnd -mrdseed -mrtm -mno-serialize -mno-sgx -mno-sha -mno-shstk -mno-tbm -mno-tsxldtrk -mno-vaes -mno-waitpkg -mno-wbnoinvd -mxsave -mno-xsavec -mxsaveopt -mno-xsaves -mno-amx-tile -mno-amx-int8 -mno-amx-bf16 -mno-uintr -mno-hreset -mno-kl -mno-widekl -mno-avxvnni --param l1-cache-size=32 --param l1-cache-line-size=64 --param l2-cache-size=56320 -mtune=broadwell -DNPY_NO_DEPRECATED_API=NPY_1_7_API_VERSION -m64 -fPIC -I/usr/local/lib/python3.11/dist-packages/numpy/_core/include -I/usr/include/python3.11 -I/usr/local/lib/python3.11/dist-packages/pytensor/link/c/c_code -L/usr/lib/x86_64-linux-gnu -L/usr/lib -fvisibility=hidden -o /root/.pytensor/compiledir_Linux-6.1.85+-x86_64-with-glibc2.35-x86_64-3.11.11-64/tmpwn7qogp3/m3a950411050b810943c3042fc90477f763dda1abaf0cf4e92bcc0194f8dc7e70.so /root/.pytensor/compiledir_Linux-6.1.85+-x86_64-with-glibc2.35-x86_64-3.11.11-64/tmpwn7qogp3/mod.cpp -lpython3.11\n",
            "/root/.pytensor/compiledir_Linux-6.1.85+-x86_64-with-glibc2.35-x86_64-3.11.11-64/tmpwn7qogp3/mod.cpp:5:10: fatal error: numpy/arrayobject.h: No such file or directory\n",
            "    5 | #include <numpy/arrayobject.h>\n",
            "      |          ^~~~~~~~~~~~~~~~~~~~~\n",
            "compilation terminated.\n",
            "\n",
            "\n"
          ]
        },
        {
          "output_type": "stream",
          "name": "stdout",
          "text": [
            "\n",
            "You can find the C code in this temporary file: /tmp/pytensor_compilation_error_bx4zknq_\n",
            "\n",
            "You can find the C code in this temporary file: /tmp/pytensor_compilation_error_e1judd0w\n",
            "\n",
            "You can find the C code in this temporary file: /tmp/pytensor_compilation_error_5490909w\n"
          ]
        },
        {
          "output_type": "error",
          "ename": "CompileError",
          "evalue": "Compilation failed (return status=1):\n/usr/bin/g++ -shared -g -Wno-c++11-narrowing -fno-exceptions -fno-unwind-tables -fno-asynchronous-unwind-tables -march=broadwell -mmmx -mpopcnt -msse -msse2 -msse3 -mssse3 -msse4.1 -msse4.2 -mavx -mavx2 -mno-sse4a -mno-fma4 -mno-xop -mfma -mno-avx512f -mbmi -mbmi2 -maes -mpclmul -mno-avx512vl -mno-avx512bw -mno-avx512dq -mno-avx512cd -mno-avx512er -mno-avx512pf -mno-avx512vbmi -mno-avx512ifma -mno-avx5124vnniw -mno-avx5124fmaps -mno-avx512vpopcntdq -mno-avx512vbmi2 -mno-gfni -mno-vpclmulqdq -mno-avx512vnni -mno-avx512bitalg -mno-avx512bf16 -mno-avx512vp2intersect -mno-3dnow -madx -mabm -mno-cldemote -mno-clflushopt -mno-clwb -mno-clzero -mcx16 -mno-enqcmd -mf16c -mfsgsbase -mfxsr -mhle -msahf -mno-lwp -mlzcnt -mmovbe -mno-movdir64b -mno-movdiri -mno-mwaitx -mno-pconfig -mno-pku -mno-prefetchwt1 -mprfchw -mno-ptwrite -mno-rdpid -mrdrnd -mrdseed -mrtm -mno-serialize -mno-sgx -mno-sha -mno-shstk -mno-tbm -mno-tsxldtrk -mno-vaes -mno-waitpkg -mno-wbnoinvd -mxsave -mno-xsavec -mxsaveopt -mno-xsaves -mno-amx-tile -mno-amx-int8 -mno-amx-bf16 -mno-uintr -mno-hreset -mno-kl -mno-widekl -mno-avxvnni --param l1-cache-size=32 --param l1-cache-line-size=64 --param l2-cache-size=56320 -mtune=broadwell -DNPY_NO_DEPRECATED_API=NPY_1_7_API_VERSION -m64 -fPIC -I/usr/local/lib/python3.11/dist-packages/numpy/_core/include -I/usr/include/python3.11 -I/usr/local/lib/python3.11/dist-packages/pytensor/link/c/c_code -L/usr/lib/x86_64-linux-gnu -L/usr/lib -fvisibility=hidden -o /root/.pytensor/compiledir_Linux-6.1.85+-x86_64-with-glibc2.35-x86_64-3.11.11-64/lazylinker_ext/lazylinker_ext.so /root/.pytensor/compiledir_Linux-6.1.85+-x86_64-with-glibc2.35-x86_64-3.11.11-64/lazylinker_ext/mod.cpp -lpython3.11\n/root/.pytensor/compiledir_Linux-6.1.85+-x86_64-with-glibc2.35-x86_64-3.11.11-64/lazylinker_ext/mod.cpp:7:10: fatal error: numpy/npy_3kcompat.h: No such file or directory\n    7 | #include \"numpy/npy_3kcompat.h\"\n      |          ^~~~~~~~~~~~~~~~~~~~~~\ncompilation terminated.\n",
          "traceback": [
            "\u001b[0;31m---------------------------------------------------------------------------\u001b[0m",
            "\u001b[0;31mImportError\u001b[0m                               Traceback (most recent call last)",
            "\u001b[0;32m/usr/local/lib/python3.11/dist-packages/pytensor/link/c/lazylinker_c.py\u001b[0m in \u001b[0;36m<module>\u001b[0;34m\u001b[0m\n\u001b[1;32m     65\u001b[0m         \u001b[0;32mif\u001b[0m \u001b[0mversion\u001b[0m \u001b[0;34m!=\u001b[0m \u001b[0mactual_version\u001b[0m\u001b[0;34m:\u001b[0m\u001b[0;34m\u001b[0m\u001b[0;34m\u001b[0m\u001b[0m\n\u001b[0;32m---> 66\u001b[0;31m             raise ImportError(\n\u001b[0m\u001b[1;32m     67\u001b[0m                 \u001b[0;34m\"Version check of the existing lazylinker compiled file.\"\u001b[0m\u001b[0;34m\u001b[0m\u001b[0;34m\u001b[0m\u001b[0m\n",
            "\u001b[0;31mImportError\u001b[0m: Version check of the existing lazylinker compiled file. Looking for version 0.212, but found None. Extra debug information: force_compile=False, _need_reload=True",
            "\nDuring handling of the above exception, another exception occurred:\n",
            "\u001b[0;31mImportError\u001b[0m                               Traceback (most recent call last)",
            "\u001b[0;32m/usr/local/lib/python3.11/dist-packages/pytensor/link/c/lazylinker_c.py\u001b[0m in \u001b[0;36m<module>\u001b[0;34m\u001b[0m\n\u001b[1;32m     86\u001b[0m             \u001b[0;32mif\u001b[0m \u001b[0mversion\u001b[0m \u001b[0;34m!=\u001b[0m \u001b[0mactual_version\u001b[0m\u001b[0;34m:\u001b[0m\u001b[0;34m\u001b[0m\u001b[0;34m\u001b[0m\u001b[0m\n\u001b[0;32m---> 87\u001b[0;31m                 raise ImportError(\n\u001b[0m\u001b[1;32m     88\u001b[0m                     \u001b[0;34m\"Version check of the existing lazylinker compiled file.\"\u001b[0m\u001b[0;34m\u001b[0m\u001b[0;34m\u001b[0m\u001b[0m\n",
            "\u001b[0;31mImportError\u001b[0m: Version check of the existing lazylinker compiled file. Looking for version 0.212, but found None. Extra debug information: force_compile=False, _need_reload=True",
            "\nDuring handling of the above exception, another exception occurred:\n",
            "\u001b[0;31mCompileError\u001b[0m                              Traceback (most recent call last)",
            "\u001b[0;32m<ipython-input-11-21da20a2c632>\u001b[0m in \u001b[0;36m<cell line: 0>\u001b[0;34m()\u001b[0m\n\u001b[1;32m      4\u001b[0m     \u001b[0mμ\u001b[0m \u001b[0;34m=\u001b[0m \u001b[0mpm\u001b[0m\u001b[0;34m.\u001b[0m\u001b[0mDeterministic\u001b[0m\u001b[0;34m(\u001b[0m\u001b[0;34m\"μ\"\u001b[0m\u001b[0;34m,\u001b[0m\u001b[0mpm\u001b[0m\u001b[0;34m.\u001b[0m\u001b[0mmath\u001b[0m\u001b[0;34m.\u001b[0m\u001b[0mexp\u001b[0m\u001b[0;34m(\u001b[0m\u001b[0mμ_\u001b[0m\u001b[0;34m)\u001b[0m\u001b[0;34m)\u001b[0m\u001b[0;34m\u001b[0m\u001b[0;34m\u001b[0m\u001b[0m\n\u001b[1;32m      5\u001b[0m     \u001b[0my\u001b[0m \u001b[0;34m=\u001b[0m \u001b[0mpm\u001b[0m\u001b[0;34m.\u001b[0m\u001b[0mNormal\u001b[0m\u001b[0;34m(\u001b[0m\u001b[0;34m\"y\"\u001b[0m\u001b[0;34m,\u001b[0m \u001b[0mmu\u001b[0m\u001b[0;34m=\u001b[0m\u001b[0mμ\u001b[0m\u001b[0;34m,\u001b[0m \u001b[0msigma\u001b[0m\u001b[0;34m=\u001b[0m\u001b[0ms\u001b[0m\u001b[0;34m,\u001b[0m  \u001b[0mobserved\u001b[0m\u001b[0;34m=\u001b[0m\u001b[0mY\u001b[0m\u001b[0;34m)\u001b[0m\u001b[0;34m\u001b[0m\u001b[0;34m\u001b[0m\u001b[0m\n\u001b[0;32m----> 6\u001b[0;31m     \u001b[0midata_octps\u001b[0m \u001b[0;34m=\u001b[0m \u001b[0mpm\u001b[0m\u001b[0;34m.\u001b[0m\u001b[0msample\u001b[0m\u001b[0;34m(\u001b[0m\u001b[0mcompute_convergence_checks\u001b[0m\u001b[0;34m=\u001b[0m\u001b[0;32mFalse\u001b[0m\u001b[0;34m)\u001b[0m\u001b[0;34m\u001b[0m\u001b[0;34m\u001b[0m\u001b[0m\n\u001b[0m",
            "\u001b[0;32m/usr/local/lib/python3.11/dist-packages/pymc/sampling/mcmc.py\u001b[0m in \u001b[0;36msample\u001b[0;34m(draws, tune, chains, cores, random_seed, progressbar, progressbar_theme, step, var_names, nuts_sampler, initvals, init, jitter_max_retries, n_init, trace, discard_tuned_samples, compute_convergence_checks, keep_warning_stat, return_inferencedata, idata_kwargs, nuts_sampler_kwargs, callback, mp_ctx, blas_cores, model, compile_kwargs, **kwargs)\u001b[0m\n\u001b[1;32m    845\u001b[0m     \u001b[0;32melse\u001b[0m\u001b[0;34m:\u001b[0m\u001b[0;34m\u001b[0m\u001b[0;34m\u001b[0m\u001b[0m\n\u001b[1;32m    846\u001b[0m         \u001b[0;31m# Get initial points\u001b[0m\u001b[0;34m\u001b[0m\u001b[0;34m\u001b[0m\u001b[0m\n\u001b[0;32m--> 847\u001b[0;31m         ipfns = make_initial_point_fns_per_chain(\n\u001b[0m\u001b[1;32m    848\u001b[0m             \u001b[0mmodel\u001b[0m\u001b[0;34m=\u001b[0m\u001b[0mmodel\u001b[0m\u001b[0;34m,\u001b[0m\u001b[0;34m\u001b[0m\u001b[0;34m\u001b[0m\u001b[0m\n\u001b[1;32m    849\u001b[0m             \u001b[0moverrides\u001b[0m\u001b[0;34m=\u001b[0m\u001b[0minitvals\u001b[0m\u001b[0;34m,\u001b[0m\u001b[0;34m\u001b[0m\u001b[0;34m\u001b[0m\u001b[0m\n",
            "\u001b[0;32m/usr/local/lib/python3.11/dist-packages/pymc/initial_point.py\u001b[0m in \u001b[0;36mmake_initial_point_fns_per_chain\u001b[0;34m(model, overrides, jitter_rvs, chains)\u001b[0m\n\u001b[1;32m     99\u001b[0m         \u001b[0;31m# Only one function compilation is needed.\u001b[0m\u001b[0;34m\u001b[0m\u001b[0;34m\u001b[0m\u001b[0m\n\u001b[1;32m    100\u001b[0m         ipfns = [\n\u001b[0;32m--> 101\u001b[0;31m             make_initial_point_fn(\n\u001b[0m\u001b[1;32m    102\u001b[0m                 \u001b[0mmodel\u001b[0m\u001b[0;34m=\u001b[0m\u001b[0mmodel\u001b[0m\u001b[0;34m,\u001b[0m\u001b[0;34m\u001b[0m\u001b[0;34m\u001b[0m\u001b[0m\n\u001b[1;32m    103\u001b[0m                 \u001b[0moverrides\u001b[0m\u001b[0;34m=\u001b[0m\u001b[0moverrides\u001b[0m\u001b[0;34m,\u001b[0m\u001b[0;34m\u001b[0m\u001b[0;34m\u001b[0m\u001b[0m\n",
            "\u001b[0;32m/usr/local/lib/python3.11/dist-packages/pymc/initial_point.py\u001b[0m in \u001b[0;36mmake_initial_point_fn\u001b[0;34m(model, overrides, jitter_rvs, default_strategy, return_transformed)\u001b[0m\n\u001b[1;32m    168\u001b[0m     \u001b[0;31m# when calling the final seeded function\u001b[0m\u001b[0;34m\u001b[0m\u001b[0;34m\u001b[0m\u001b[0m\n\u001b[1;32m    169\u001b[0m     \u001b[0minitial_values\u001b[0m \u001b[0;34m=\u001b[0m \u001b[0mreplace_rng_nodes\u001b[0m\u001b[0;34m(\u001b[0m\u001b[0minitial_values\u001b[0m\u001b[0;34m)\u001b[0m\u001b[0;34m\u001b[0m\u001b[0;34m\u001b[0m\u001b[0m\n\u001b[0;32m--> 170\u001b[0;31m     \u001b[0mfunc\u001b[0m \u001b[0;34m=\u001b[0m \u001b[0mcompile\u001b[0m\u001b[0;34m(\u001b[0m\u001b[0minputs\u001b[0m\u001b[0;34m=\u001b[0m\u001b[0;34m[\u001b[0m\u001b[0;34m]\u001b[0m\u001b[0;34m,\u001b[0m \u001b[0moutputs\u001b[0m\u001b[0;34m=\u001b[0m\u001b[0minitial_values\u001b[0m\u001b[0;34m,\u001b[0m \u001b[0mmode\u001b[0m\u001b[0;34m=\u001b[0m\u001b[0mpytensor\u001b[0m\u001b[0;34m.\u001b[0m\u001b[0mcompile\u001b[0m\u001b[0;34m.\u001b[0m\u001b[0mmode\u001b[0m\u001b[0;34m.\u001b[0m\u001b[0mFAST_COMPILE\u001b[0m\u001b[0;34m)\u001b[0m\u001b[0;34m\u001b[0m\u001b[0;34m\u001b[0m\u001b[0m\n\u001b[0m\u001b[1;32m    171\u001b[0m \u001b[0;34m\u001b[0m\u001b[0m\n\u001b[1;32m    172\u001b[0m     \u001b[0mvarnames\u001b[0m \u001b[0;34m=\u001b[0m \u001b[0;34m[\u001b[0m\u001b[0;34m]\u001b[0m\u001b[0;34m\u001b[0m\u001b[0;34m\u001b[0m\u001b[0m\n",
            "\u001b[0;32m/usr/local/lib/python3.11/dist-packages/pymc/pytensorf.py\u001b[0m in \u001b[0;36mcompile\u001b[0;34m(inputs, outputs, random_seed, mode, **kwargs)\u001b[0m\n\u001b[1;32m    945\u001b[0m     \u001b[0;32mif\u001b[0m \u001b[0minputs\u001b[0m \u001b[0;32mis\u001b[0m \u001b[0;32mNone\u001b[0m\u001b[0;34m:\u001b[0m\u001b[0;34m\u001b[0m\u001b[0;34m\u001b[0m\u001b[0m\n\u001b[1;32m    946\u001b[0m         \u001b[0minputs\u001b[0m \u001b[0;34m=\u001b[0m \u001b[0;34m[\u001b[0m\u001b[0;34m]\u001b[0m\u001b[0;34m\u001b[0m\u001b[0;34m\u001b[0m\u001b[0m\n\u001b[0;32m--> 947\u001b[0;31m \u001b[0;34m\u001b[0m\u001b[0m\n\u001b[0m\u001b[1;32m    948\u001b[0m     \u001b[0mouts\u001b[0m \u001b[0;34m=\u001b[0m \u001b[0mmakeiter\u001b[0m\u001b[0;34m(\u001b[0m\u001b[0moutputs\u001b[0m\u001b[0;34m)\u001b[0m\u001b[0;34m\u001b[0m\u001b[0;34m\u001b[0m\u001b[0m\n\u001b[1;32m    949\u001b[0m     \u001b[0mfg\u001b[0m \u001b[0;34m=\u001b[0m \u001b[0mFunctionGraph\u001b[0m\u001b[0;34m(\u001b[0m\u001b[0moutputs\u001b[0m\u001b[0;34m=\u001b[0m\u001b[0mouts\u001b[0m\u001b[0;34m,\u001b[0m \u001b[0mclone\u001b[0m\u001b[0;34m=\u001b[0m\u001b[0;32mFalse\u001b[0m\u001b[0;34m)\u001b[0m\u001b[0;34m\u001b[0m\u001b[0;34m\u001b[0m\u001b[0m\n",
            "\u001b[0;32m/usr/local/lib/python3.11/dist-packages/pytensor/compile/function/__init__.py\u001b[0m in \u001b[0;36mfunction\u001b[0;34m(inputs, outputs, mode, updates, givens, no_default_updates, accept_inplace, name, rebuild_strict, allow_input_downcast, profile, on_unused_input, trust_input)\u001b[0m\n\u001b[1;32m    330\u001b[0m             \u001b[0mprofile\u001b[0m\u001b[0;34m=\u001b[0m\u001b[0mprofile\u001b[0m\u001b[0;34m,\u001b[0m\u001b[0;34m\u001b[0m\u001b[0;34m\u001b[0m\u001b[0m\n\u001b[1;32m    331\u001b[0m             \u001b[0moutput_keys\u001b[0m\u001b[0;34m=\u001b[0m\u001b[0moutput_keys\u001b[0m\u001b[0;34m,\u001b[0m\u001b[0;34m\u001b[0m\u001b[0;34m\u001b[0m\u001b[0m\n\u001b[0;32m--> 332\u001b[0;31m         )\n\u001b[0m\u001b[1;32m    333\u001b[0m     \u001b[0;32mreturn\u001b[0m \u001b[0mfn\u001b[0m\u001b[0;34m\u001b[0m\u001b[0;34m\u001b[0m\u001b[0m\n",
            "\u001b[0;32m/usr/local/lib/python3.11/dist-packages/pytensor/compile/function/pfunc.py\u001b[0m in \u001b[0;36mpfunc\u001b[0;34m(params, outputs, mode, updates, givens, no_default_updates, accept_inplace, name, rebuild_strict, allow_input_downcast, profile, on_unused_input, output_keys, fgraph, trust_input)\u001b[0m\n\u001b[1;32m    470\u001b[0m         \u001b[0mname\u001b[0m\u001b[0;34m=\u001b[0m\u001b[0mname\u001b[0m\u001b[0;34m,\u001b[0m\u001b[0;34m\u001b[0m\u001b[0;34m\u001b[0m\u001b[0m\n\u001b[1;32m    471\u001b[0m         \u001b[0mprofile\u001b[0m\u001b[0;34m=\u001b[0m\u001b[0mprofile\u001b[0m\u001b[0;34m,\u001b[0m\u001b[0;34m\u001b[0m\u001b[0;34m\u001b[0m\u001b[0m\n\u001b[0;32m--> 472\u001b[0;31m         \u001b[0mon_unused_input\u001b[0m\u001b[0;34m=\u001b[0m\u001b[0mon_unused_input\u001b[0m\u001b[0;34m,\u001b[0m\u001b[0;34m\u001b[0m\u001b[0;34m\u001b[0m\u001b[0m\n\u001b[0m\u001b[1;32m    473\u001b[0m         \u001b[0moutput_keys\u001b[0m\u001b[0;34m=\u001b[0m\u001b[0moutput_keys\u001b[0m\u001b[0;34m,\u001b[0m\u001b[0;34m\u001b[0m\u001b[0;34m\u001b[0m\u001b[0m\n\u001b[1;32m    474\u001b[0m         \u001b[0mfgraph\u001b[0m\u001b[0;34m=\u001b[0m\u001b[0mfgraph\u001b[0m\u001b[0;34m,\u001b[0m\u001b[0;34m\u001b[0m\u001b[0;34m\u001b[0m\u001b[0m\n",
            "\u001b[0;32m/usr/local/lib/python3.11/dist-packages/pytensor/compile/function/types.py\u001b[0m in \u001b[0;36morig_function\u001b[0;34m(inputs, outputs, mode, accept_inplace, name, profile, on_unused_input, output_keys, fgraph, trust_input)\u001b[0m\n\u001b[1;32m   1831\u001b[0m                     \u001b[0;34m\"documentation or use an In instance)\"\u001b[0m\u001b[0;34m\u001b[0m\u001b[0;34m\u001b[0m\u001b[0m\n\u001b[1;32m   1832\u001b[0m                 )\n\u001b[0;32m-> 1833\u001b[0;31m         \u001b[0;32melif\u001b[0m \u001b[0misinstance\u001b[0m\u001b[0;34m(\u001b[0m\u001b[0minput\u001b[0m\u001b[0;34m[\u001b[0m\u001b[0;36m0\u001b[0m\u001b[0;34m]\u001b[0m\u001b[0;34m,\u001b[0m \u001b[0mSymbolicInput\u001b[0m\u001b[0;34m)\u001b[0m\u001b[0;34m:\u001b[0m\u001b[0;34m\u001b[0m\u001b[0;34m\u001b[0m\u001b[0m\n\u001b[0m\u001b[1;32m   1834\u001b[0m             \u001b[0;32mif\u001b[0m \u001b[0mlen\u001b[0m\u001b[0;34m(\u001b[0m\u001b[0minput\u001b[0m\u001b[0;34m)\u001b[0m \u001b[0;34m==\u001b[0m \u001b[0;36m1\u001b[0m\u001b[0;34m:\u001b[0m\u001b[0;34m\u001b[0m\u001b[0;34m\u001b[0m\u001b[0m\n\u001b[1;32m   1835\u001b[0m                 \u001b[0;32mreturn\u001b[0m \u001b[0minput\u001b[0m\u001b[0;34m[\u001b[0m\u001b[0;36m0\u001b[0m\u001b[0;34m]\u001b[0m\u001b[0;34m\u001b[0m\u001b[0;34m\u001b[0m\u001b[0m\n",
            "\u001b[0;32m/usr/local/lib/python3.11/dist-packages/pytensor/compile/function/types.py\u001b[0m in \u001b[0;36mcreate\u001b[0;34m(self, input_storage, storage_map)\u001b[0m\n\u001b[1;32m   1715\u001b[0m     \u001b[0mmode\u001b[0m \u001b[0;34m:\u001b[0m \u001b[0mdescriptive\u001b[0m \u001b[0mstring\u001b[0m \u001b[0;32mor\u001b[0m \u001b[0mMode\u001b[0m \u001b[0minstance\u001b[0m\u001b[0;34m\u001b[0m\u001b[0;34m\u001b[0m\u001b[0m\n\u001b[1;32m   1716\u001b[0m         Default of None means to use `config.mode` (see below for descriptive\n\u001b[0;32m-> 1717\u001b[0;31m         string list).\n\u001b[0m\u001b[1;32m   1718\u001b[0m     \u001b[0mname\u001b[0m \u001b[0;34m:\u001b[0m \u001b[0mstr\u001b[0m\u001b[0;34m\u001b[0m\u001b[0;34m\u001b[0m\u001b[0m\n\u001b[1;32m   1719\u001b[0m         \u001b[0mAn\u001b[0m \u001b[0moptional\u001b[0m \u001b[0mname\u001b[0m \u001b[0;32mfor\u001b[0m \u001b[0mthis\u001b[0m \u001b[0mfunction\u001b[0m\u001b[0;34m.\u001b[0m \u001b[0mIf\u001b[0m \u001b[0mused\u001b[0m\u001b[0;34m,\u001b[0m \u001b[0mthe\u001b[0m \u001b[0mprofile\u001b[0m \u001b[0mmode\u001b[0m \u001b[0mwill\u001b[0m \u001b[0mprint\u001b[0m \u001b[0mthe\u001b[0m\u001b[0;34m\u001b[0m\u001b[0;34m\u001b[0m\u001b[0m\n",
            "\u001b[0;32m/usr/local/lib/python3.11/dist-packages/pytensor/link/basic.py\u001b[0m in \u001b[0;36mmake_thunk\u001b[0;34m(self, input_storage, output_storage, storage_map, **kwargs)\u001b[0m\n\u001b[1;32m    243\u001b[0m         \u001b[0;34m**\u001b[0m\u001b[0mkwargs\u001b[0m\u001b[0;34m,\u001b[0m\u001b[0;34m\u001b[0m\u001b[0;34m\u001b[0m\u001b[0m\n\u001b[1;32m    244\u001b[0m     ) -> tuple[\"BasicThunkType\", \"InputStorageType\", \"OutputStorageType\"]:\n\u001b[0;32m--> 245\u001b[0;31m         return self.make_all(\n\u001b[0m\u001b[1;32m    246\u001b[0m             \u001b[0minput_storage\u001b[0m\u001b[0;34m=\u001b[0m\u001b[0minput_storage\u001b[0m\u001b[0;34m,\u001b[0m\u001b[0;34m\u001b[0m\u001b[0;34m\u001b[0m\u001b[0m\n\u001b[1;32m    247\u001b[0m             \u001b[0moutput_storage\u001b[0m\u001b[0;34m=\u001b[0m\u001b[0moutput_storage\u001b[0m\u001b[0;34m,\u001b[0m\u001b[0;34m\u001b[0m\u001b[0;34m\u001b[0m\u001b[0m\n",
            "\u001b[0;32m/usr/local/lib/python3.11/dist-packages/pytensor/link/vm.py\u001b[0m in \u001b[0;36mmake_all\u001b[0;34m(self, profiler, input_storage, output_storage, storage_map)\u001b[0m\n\u001b[1;32m   1283\u001b[0m             \u001b[0mpost_thunk_clear\u001b[0m \u001b[0;34m=\u001b[0m \u001b[0;32mNone\u001b[0m\u001b[0;34m\u001b[0m\u001b[0;34m\u001b[0m\u001b[0m\n\u001b[1;32m   1284\u001b[0m \u001b[0;34m\u001b[0m\u001b[0m\n\u001b[0;32m-> 1285\u001b[0;31m         vm = self.make_vm(\n\u001b[0m\u001b[1;32m   1286\u001b[0m             \u001b[0morder\u001b[0m\u001b[0;34m,\u001b[0m\u001b[0;34m\u001b[0m\u001b[0;34m\u001b[0m\u001b[0m\n\u001b[1;32m   1287\u001b[0m             \u001b[0mthunks\u001b[0m\u001b[0;34m,\u001b[0m\u001b[0;34m\u001b[0m\u001b[0;34m\u001b[0m\u001b[0m\n",
            "\u001b[0;32m/usr/local/lib/python3.11/dist-packages/pytensor/link/vm.py\u001b[0m in \u001b[0;36mmake_vm\u001b[0;34m(self, nodes, thunks, input_storage, output_storage, storage_map, post_thunk_clear, computed, compute_map, updated_vars)\u001b[0m\n\u001b[1;32m   1011\u001b[0m \u001b[0;34m\u001b[0m\u001b[0m\n\u001b[1;32m   1012\u001b[0m         \u001b[0;32mtry\u001b[0m\u001b[0;34m:\u001b[0m\u001b[0;34m\u001b[0m\u001b[0;34m\u001b[0m\u001b[0m\n\u001b[0;32m-> 1013\u001b[0;31m             \u001b[0;32mfrom\u001b[0m \u001b[0mpytensor\u001b[0m\u001b[0;34m.\u001b[0m\u001b[0mlink\u001b[0m\u001b[0;34m.\u001b[0m\u001b[0mc\u001b[0m\u001b[0;34m.\u001b[0m\u001b[0mcvm\u001b[0m \u001b[0;32mimport\u001b[0m \u001b[0mCVM\u001b[0m\u001b[0;34m\u001b[0m\u001b[0;34m\u001b[0m\u001b[0m\n\u001b[0m\u001b[1;32m   1014\u001b[0m         \u001b[0;32mexcept\u001b[0m \u001b[0;34m(\u001b[0m\u001b[0mMissingGXX\u001b[0m\u001b[0;34m,\u001b[0m \u001b[0mImportError\u001b[0m\u001b[0;34m)\u001b[0m\u001b[0;34m:\u001b[0m\u001b[0;34m\u001b[0m\u001b[0;34m\u001b[0m\u001b[0m\n\u001b[1;32m   1015\u001b[0m             \u001b[0mCVM\u001b[0m \u001b[0;34m=\u001b[0m \u001b[0;32mNone\u001b[0m\u001b[0;34m\u001b[0m\u001b[0;34m\u001b[0m\u001b[0m\n",
            "\u001b[0;32m/usr/local/lib/python3.11/dist-packages/pytensor/link/c/cvm.py\u001b[0m in \u001b[0;36m<module>\u001b[0;34m\u001b[0m\n\u001b[1;32m     11\u001b[0m             \u001b[0;34m\"lazylinker will not be imported if pytensor.config.cxx is not set.\"\u001b[0m\u001b[0;34m\u001b[0m\u001b[0;34m\u001b[0m\u001b[0m\n\u001b[1;32m     12\u001b[0m         )\n\u001b[0;32m---> 13\u001b[0;31m     \u001b[0;32mfrom\u001b[0m \u001b[0mpytensor\u001b[0m\u001b[0;34m.\u001b[0m\u001b[0mlink\u001b[0m\u001b[0;34m.\u001b[0m\u001b[0mc\u001b[0m\u001b[0;34m.\u001b[0m\u001b[0mlazylinker_c\u001b[0m \u001b[0;32mimport\u001b[0m \u001b[0mCLazyLinker\u001b[0m\u001b[0;34m\u001b[0m\u001b[0;34m\u001b[0m\u001b[0m\n\u001b[0m\u001b[1;32m     14\u001b[0m \u001b[0;34m\u001b[0m\u001b[0m\n\u001b[1;32m     15\u001b[0m     \u001b[0;32mclass\u001b[0m \u001b[0mCVM\u001b[0m\u001b[0;34m(\u001b[0m\u001b[0mCLazyLinker\u001b[0m\u001b[0;34m,\u001b[0m \u001b[0mVM\u001b[0m\u001b[0;34m)\u001b[0m\u001b[0;34m:\u001b[0m\u001b[0;34m\u001b[0m\u001b[0;34m\u001b[0m\u001b[0m\n",
            "\u001b[0;32m/usr/local/lib/python3.11/dist-packages/pytensor/link/c/lazylinker_c.py\u001b[0m in \u001b[0;36m<module>\u001b[0;34m\u001b[0m\n\u001b[1;32m    120\u001b[0m \u001b[0;34m\u001b[0m\u001b[0m\n\u001b[1;32m    121\u001b[0m             \u001b[0margs\u001b[0m \u001b[0;34m=\u001b[0m \u001b[0mGCC_compiler\u001b[0m\u001b[0;34m.\u001b[0m\u001b[0mcompile_args\u001b[0m\u001b[0;34m(\u001b[0m\u001b[0;34m)\u001b[0m\u001b[0;34m\u001b[0m\u001b[0;34m\u001b[0m\u001b[0m\n\u001b[0;32m--> 122\u001b[0;31m             \u001b[0mGCC_compiler\u001b[0m\u001b[0;34m.\u001b[0m\u001b[0mcompile_str\u001b[0m\u001b[0;34m(\u001b[0m\u001b[0mdirname\u001b[0m\u001b[0;34m,\u001b[0m \u001b[0mcode\u001b[0m\u001b[0;34m,\u001b[0m \u001b[0mlocation\u001b[0m\u001b[0;34m=\u001b[0m\u001b[0mloc\u001b[0m\u001b[0;34m,\u001b[0m \u001b[0mpreargs\u001b[0m\u001b[0;34m=\u001b[0m\u001b[0margs\u001b[0m\u001b[0;34m)\u001b[0m\u001b[0;34m\u001b[0m\u001b[0;34m\u001b[0m\u001b[0m\n\u001b[0m\u001b[1;32m    123\u001b[0m             \u001b[0;31m# Save version into the __init__.py file.\u001b[0m\u001b[0;34m\u001b[0m\u001b[0;34m\u001b[0m\u001b[0m\n\u001b[1;32m    124\u001b[0m             \u001b[0minit_py\u001b[0m \u001b[0;34m=\u001b[0m \u001b[0mloc\u001b[0m \u001b[0;34m/\u001b[0m \u001b[0;34m\"__init__.py\"\u001b[0m\u001b[0;34m\u001b[0m\u001b[0;34m\u001b[0m\u001b[0m\n",
            "\u001b[0;32m/usr/local/lib/python3.11/dist-packages/pytensor/link/c/cmodule.py\u001b[0m in \u001b[0;36mcompile_str\u001b[0;34m(module_name, src_code, location, include_dirs, lib_dirs, libs, preargs, py_module, hide_symbols)\u001b[0m\n\u001b[1;32m   2674\u001b[0m             \u001b[0;31m# difficult to read.\u001b[0m\u001b[0;34m\u001b[0m\u001b[0;34m\u001b[0m\u001b[0m\n\u001b[1;32m   2675\u001b[0m             \u001b[0;31m# compile_stderr = compile_stderr.replace(\"\\n\", \". \")\u001b[0m\u001b[0;34m\u001b[0m\u001b[0;34m\u001b[0m\u001b[0m\n\u001b[0;32m-> 2676\u001b[0;31m             raise CompileError(\n\u001b[0m\u001b[1;32m   2677\u001b[0m                 \u001b[0;34mf\"Compilation failed (return status={status}):\\n{' '.join(cmd)}\\n{compile_stderr}\"\u001b[0m\u001b[0;34m\u001b[0m\u001b[0;34m\u001b[0m\u001b[0m\n\u001b[1;32m   2678\u001b[0m             )\n",
            "\u001b[0;31mCompileError\u001b[0m: Compilation failed (return status=1):\n/usr/bin/g++ -shared -g -Wno-c++11-narrowing -fno-exceptions -fno-unwind-tables -fno-asynchronous-unwind-tables -march=broadwell -mmmx -mpopcnt -msse -msse2 -msse3 -mssse3 -msse4.1 -msse4.2 -mavx -mavx2 -mno-sse4a -mno-fma4 -mno-xop -mfma -mno-avx512f -mbmi -mbmi2 -maes -mpclmul -mno-avx512vl -mno-avx512bw -mno-avx512dq -mno-avx512cd -mno-avx512er -mno-avx512pf -mno-avx512vbmi -mno-avx512ifma -mno-avx5124vnniw -mno-avx5124fmaps -mno-avx512vpopcntdq -mno-avx512vbmi2 -mno-gfni -mno-vpclmulqdq -mno-avx512vnni -mno-avx512bitalg -mno-avx512bf16 -mno-avx512vp2intersect -mno-3dnow -madx -mabm -mno-cldemote -mno-clflushopt -mno-clwb -mno-clzero -mcx16 -mno-enqcmd -mf16c -mfsgsbase -mfxsr -mhle -msahf -mno-lwp -mlzcnt -mmovbe -mno-movdir64b -mno-movdiri -mno-mwaitx -mno-pconfig -mno-pku -mno-prefetchwt1 -mprfchw -mno-ptwrite -mno-rdpid -mrdrnd -mrdseed -mrtm -mno-serialize -mno-sgx -mno-sha -mno-shstk -mno-tbm -mno-tsxldtrk -mno-vaes -mno-waitpkg -mno-wbnoinvd -mxsave -mno-xsavec -mxsaveopt -mno-xsaves -mno-amx-tile -mno-amx-int8 -mno-amx-bf16 -mno-uintr -mno-hreset -mno-kl -mno-widekl -mno-avxvnni --param l1-cache-size=32 --param l1-cache-line-size=64 --param l2-cache-size=56320 -mtune=broadwell -DNPY_NO_DEPRECATED_API=NPY_1_7_API_VERSION -m64 -fPIC -I/usr/local/lib/python3.11/dist-packages/numpy/_core/include -I/usr/include/python3.11 -I/usr/local/lib/python3.11/dist-packages/pytensor/link/c/c_code -L/usr/lib/x86_64-linux-gnu -L/usr/lib -fvisibility=hidden -o /root/.pytensor/comp...\n/root/.pytensor/compiledir_Linux-6.1.85+-x86_64-with-glibc2.35-x86_64-3.11.11-64/lazylinker_ext/mod.cpp:7:10: fatal error: numpy/npy_3kcompat.h: No such file or directory\n    7 | #include \"numpy/npy_3kcompat.h\"\n      |          ^~~~~~~~~~~~~~~~~~~~~~\ncompilation terminated.\n"
          ]
        }
      ]
    },
    {
      "cell_type": "code",
      "source": [
        "pm.sample_posterior_predictive(idata_octps,model_octps, extend_inferencedata=True)\n",
        "az.plot_ppc(idata_octps, num_pp_samples=100, colors=[\"C1\", \"C0\", \"C1\"]"
      ],
      "metadata": {
        "id": "lK77AKTU0NWn",
        "colab": {
          "base_uri": "https://localhost:8080/"
        },
        "outputId": "e9acd013-2c4f-4088-d7cf-569095ae51db"
      },
      "execution_count": 8,
      "outputs": [
        {
          "output_type": "error",
          "ename": "SyntaxError",
          "evalue": "incomplete input (<ipython-input-8-0422b4675cca>, line 2)",
          "traceback": [
            "\u001b[0;36m  File \u001b[0;32m\"<ipython-input-8-0422b4675cca>\"\u001b[0;36m, line \u001b[0;32m2\u001b[0m\n\u001b[0;31m    az.plot_ppc(idata_octps, num_pp_samples=100, colors=[\"C1\", \"C0\", \"C1\"]\u001b[0m\n\u001b[0m                                                                          ^\u001b[0m\n\u001b[0;31mSyntaxError\u001b[0m\u001b[0;31m:\u001b[0m incomplete input\n"
          ]
        }
      ]
    },
    {
      "cell_type": "markdown",
      "source": [
        "**Task7**:\n",
        "\n",
        "Plot flipper length versus body mass,\n",
        "\n",
        "and then plot the posterior predictve from the model over the data.\n",
        "You're going to copy paste the plotting code from the notes, fyi."
      ],
      "metadata": {
        "id": "LdZ9ZKQ8zCje"
      }
    },
    {
      "cell_type": "code",
      "source": [
        "posterior_mean = idata_octps.posterior[\"μ\"]\n",
        "\n",
        "μ_hdi = az.hdi(ary=idata_octps, group=\"posterior\", var_names=[\"μ\"], hdi_prob=0.74)\n",
        "pps = az.extract(\n",
        "    idata_octps, group=\"posterior_predictive\", var_names=[\"y\"]\n",
        ").T"
      ],
      "metadata": {
        "id": "up2D0VIn027T"
      },
      "execution_count": null,
      "outputs": []
    },
    {
      "cell_type": "code",
      "source": [
        "Xn = X.to_numpy()"
      ],
      "metadata": {
        "id": "6UdcLkYv1Gji"
      },
      "execution_count": null,
      "outputs": []
    },
    {
      "cell_type": "code",
      "source": [
        "idx = np.argsort(Xn[:, 0])\n",
        "fig, ax = plt.subplots()\n",
        "\n",
        "az.plot_hdi(\n",
        "    x=Xn[:, 0],\n",
        "    y=pps,\n",
        "    ax=ax,\n",
        "    hdi_prob=0.93,\n",
        "    fill_kwargs={\"alpha\": 0.3, \"label\": r\"Posterior Predictive HDI\"},\n",
        ")\n",
        "\n",
        "az.plot_hdi(\n",
        "    x=Xn[:, 0],\n",
        "    y=posterior_mean,\n",
        "    ax=ax,\n",
        "    hdi_prob=0.74,\n",
        "    fill_kwargs={\"alpha\": 0.6, \"label\": r\"Mean HDI\"},\n",
        ")\n",
        "ax.plot(penguins[\"flipper_length\"], penguins[\"body_mass\"], \"o\", c=\"C0\", label=\"Raw Data\")\n",
        "ax.legend(loc=\"lower right\")\n",
        "ax.set(\n",
        "    title=\"Posterior Predictive\",\n",
        "    xlabel=\"flipper_length\",\n",
        "    ylabel=\"body_mass\",\n",
        ");"
      ],
      "metadata": {
        "id": "Mrljynv31JSR"
      },
      "execution_count": null,
      "outputs": []
    },
    {
      "cell_type": "markdown",
      "source": [
        "**Task8**:\n",
        "\n",
        "Interpret the plot above in context. Do you think it captures the true association between flipper length and body mass in penguins? Why or why not? Make sure to reference specific things you see in the plot."
      ],
      "metadata": {
        "id": "aaJfHSvIzbCC"
      }
    },
    {
      "cell_type": "markdown",
      "source": [
        "**Task9**:\n",
        "\n",
        "Create partial depnedence plots (pdps), individual conditional expectation (ice) plots, and a variable importance plot for the BARTpenguin model."
      ],
      "metadata": {
        "id": "vg8ROtVj09Mn"
      }
    },
    {
      "cell_type": "code",
      "source": [
        "pmb.plot_pdp(μ_, X, Y, grid=(1, 5), func=np.exp, figsize = (12,6))"
      ],
      "metadata": {
        "id": "BGUy2NOa14Z7"
      },
      "execution_count": null,
      "outputs": []
    },
    {
      "cell_type": "code",
      "source": [
        "pmb.plot_ice( μ_, X, Y, grid=(1, 5), func=np.exp, figsize = (12,6))"
      ],
      "metadata": {
        "id": "XYiXEuzG18_o"
      },
      "execution_count": null,
      "outputs": []
    },
    {
      "cell_type": "code",
      "source": [
        "vi_counties = pmb.compute_variable_importance(idata_octps, μ_, X)\n",
        "pmb.plot_variable_importance(vi_counties)"
      ],
      "metadata": {
        "id": "-S3l0TY02DEM"
      },
      "execution_count": null,
      "outputs": []
    },
    {
      "cell_type": "markdown",
      "source": [
        "**Task10**:\n",
        "\n",
        "Using the above plots, make an argument about which variable(s) is/are most important in predicting body mass in penguins.\n",
        "\n",
        "What is the relationship for each variable to body mass, when you take the other variables into account?\n",
        "\n",
        "Is that relationship complicated by interactions between variables? How do you know?\n",
        "\n",
        "Make sure to reference specific things you see in each plot, to justify your decisions and comments."
      ],
      "metadata": {
        "id": "65fXsQ-R1O69"
      }
    }
  ]
}